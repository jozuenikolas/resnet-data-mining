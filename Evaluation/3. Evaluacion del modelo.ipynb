{
 "cells": [
  {
   "cell_type": "markdown",
   "id": "803df909",
   "metadata": {},
   "source": [
    "<h1 style=\"text-align:center;\"><strong>Evaluacion del Modelo<strong></h1>"
   ]
  },
  {
   "cell_type": "markdown",
   "id": "3e7e0ae3",
   "metadata": {},
   "source": [
    "### 1) Importar librerías"
   ]
  },
  {
   "cell_type": "code",
   "execution_count": 1,
   "id": "718d0183",
   "metadata": {},
   "outputs": [],
   "source": [
    "import pandas as pd\n",
    "import pickle\n",
    "from sklearn.feature_extraction.text import TfidfVectorizer\n",
    "import numpy as np\n",
    "from py2neo import Graph"
   ]
  },
  {
   "cell_type": "code",
   "execution_count": 2,
   "id": "990d272d",
   "metadata": {},
   "outputs": [
    {
     "name": "stderr",
     "output_type": "stream",
     "text": [
      "[nltk_data] Downloading package stopwords to\n",
      "[nltk_data]     C:\\Users\\Nicolas\\AppData\\Roaming\\nltk_data...\n",
      "[nltk_data]   Package stopwords is already up-to-date!\n"
     ]
    },
    {
     "data": {
      "text/plain": [
       "True"
      ]
     },
     "execution_count": 2,
     "metadata": {},
     "output_type": "execute_result"
    }
   ],
   "source": [
    "from unidecode import unidecode\n",
    "import nltk\n",
    "nltk.download('stopwords')"
   ]
  },
  {
   "cell_type": "code",
   "execution_count": 3,
   "id": "cfc2d702",
   "metadata": {},
   "outputs": [],
   "source": [
    "from string import punctuation \n",
    "from nltk.corpus import stopwords"
   ]
  },
  {
   "cell_type": "markdown",
   "id": "1bf40763",
   "metadata": {},
   "source": [
    "### 2) Cargar el modelo"
   ]
  },
  {
   "cell_type": "markdown",
   "id": "f2f9220b",
   "metadata": {},
   "source": [
    "#### Definir el path del modelo"
   ]
  },
  {
   "cell_type": "code",
   "execution_count": 4,
   "id": "774cbcb2",
   "metadata": {},
   "outputs": [],
   "source": [
    "basePath = 'resources/models/tf-idf/'\n",
    "version = 'v9.0'\n",
    "modelPath = basePath+\"model-\"+version+\".pkl\""
   ]
  },
  {
   "cell_type": "markdown",
   "id": "ce53bb6a",
   "metadata": {},
   "source": [
    "#### Leer el modelo"
   ]
  },
  {
   "cell_type": "code",
   "execution_count": 5,
   "id": "f88308b0",
   "metadata": {},
   "outputs": [],
   "source": [
    "with open(modelPath, \"rb\") as fp: \n",
    "    model = pickle.load(fp)"
   ]
  },
  {
   "cell_type": "code",
   "execution_count": 6,
   "id": "25ceca95",
   "metadata": {},
   "outputs": [
    {
     "name": "stdout",
     "output_type": "stream",
     "text": [
      "  (0, 103362)\t0.09923212487214342\n",
      "  (0, 43175)\t0.06886584546383225\n",
      "  (0, 8238)\t0.07078582159576213\n",
      "  (0, 8205)\t0.08644800745109515\n",
      "  (0, 92948)\t0.10016422068273652\n",
      "  (0, 43095)\t0.12047859376933612\n",
      "  (0, 75983)\t0.07326409734135113\n",
      "  (0, 41850)\t0.1039336392953721\n",
      "  (0, 10251)\t0.06819450408499904\n",
      "  (0, 8382)\t0.09963160024033874\n",
      "  (0, 45490)\t0.10901159827994265\n",
      "  (0, 57294)\t0.09884113157844591\n",
      "  (0, 109205)\t0.11846335948205136\n",
      "  (0, 30058)\t0.1263272961937833\n",
      "  (0, 32946)\t0.0938851023709985\n",
      "  (0, 19333)\t0.12035374520750669\n",
      "  (0, 110901)\t0.0986487046202866\n",
      "  (0, 40726)\t0.0683563637092741\n",
      "  (0, 46200)\t0.08156953898252392\n",
      "  (0, 16854)\t0.07070169585633913\n",
      "  (0, 27971)\t0.10092808978243235\n",
      "  (0, 56755)\t0.06400635424331756\n",
      "  (0, 35438)\t0.08156953898252392\n",
      "  (0, 57841)\t0.05302019314937439\n",
      "  (0, 115869)\t0.06709275194070413\n",
      "  :\t:\n",
      "  (37525, 88293)\t0.16497810008348493\n",
      "  (37525, 71710)\t0.15840487494991684\n",
      "  (37525, 102363)\t0.1691939800736844\n",
      "  (37525, 90112)\t0.14938705482506517\n",
      "  (37525, 24578)\t0.3598631223224841\n",
      "  (37525, 114692)\t0.1293030861474833\n",
      "  (37525, 96341)\t0.11153425826775523\n",
      "  (37525, 24180)\t0.10456120699488096\n",
      "  (37525, 105510)\t0.1256959017553786\n",
      "  (37525, 78492)\t0.10072457549274928\n",
      "  (37525, 23190)\t0.19062830352006474\n",
      "  (37525, 102747)\t0.0995172305231902\n",
      "  (37525, 38684)\t0.08454989844106728\n",
      "  (37525, 51381)\t0.22149490784192352\n",
      "  (37525, 42571)\t0.10356484526905303\n",
      "  (37525, 41921)\t0.20278540864187142\n",
      "  (37525, 92998)\t0.1242661227632679\n",
      "  (37525, 10771)\t0.09280221039842096\n",
      "  (37525, 28591)\t0.13137956883352897\n",
      "  (37525, 57784)\t0.12565503601086264\n",
      "  (37525, 88308)\t0.0823199383615387\n",
      "  (37525, 115411)\t0.054601630837416225\n",
      "  (37525, 88078)\t0.08640577095319449\n",
      "  (37525, 115410)\t0.06265560995917899\n",
      "  (37525, 80034)\t0.07469389203666102\n"
     ]
    }
   ],
   "source": [
    "print(model['matrix'])"
   ]
  },
  {
   "cell_type": "markdown",
   "id": "62aa3294",
   "metadata": {},
   "source": [
    "### 3) Evaluación manual del modelo"
   ]
  },
  {
   "cell_type": "markdown",
   "id": "8fd29ef6",
   "metadata": {},
   "source": [
    "#### Construir una funcion para tokenizar"
   ]
  },
  {
   "cell_type": "code",
   "execution_count": 7,
   "id": "f9ec4627",
   "metadata": {},
   "outputs": [],
   "source": [
    "tokenizer = TfidfVectorizer().build_tokenizer()"
   ]
  },
  {
   "cell_type": "code",
   "execution_count": 8,
   "id": "103cf834",
   "metadata": {},
   "outputs": [],
   "source": [
    "input_data = \"covid ecuador\""
   ]
  },
  {
   "cell_type": "code",
   "execution_count": 9,
   "id": "6f9ed76c",
   "metadata": {},
   "outputs": [
    {
     "data": {
      "text/plain": [
       "['covid', 'ecuador']"
      ]
     },
     "execution_count": 9,
     "metadata": {},
     "output_type": "execute_result"
    }
   ],
   "source": [
    "tokenizer(input_data)"
   ]
  },
  {
   "cell_type": "code",
   "execution_count": 10,
   "id": "8ddba932",
   "metadata": {},
   "outputs": [
    {
     "name": "stdout",
     "output_type": "stream",
     "text": [
      "13790\n"
     ]
    }
   ],
   "source": [
    "if 'artificial' in model['vocabulary']:\n",
    "    print(model['vocabulary']['artificial'])"
   ]
  },
  {
   "cell_type": "code",
   "execution_count": 11,
   "id": "8b7810ce",
   "metadata": {},
   "outputs": [
    {
     "name": "stdout",
     "output_type": "stream",
     "text": [
      "58610\n"
     ]
    }
   ],
   "source": [
    "if 'intelligence' in model['vocabulary']:\n",
    "    print(model['vocabulary']['intelligence'])"
   ]
  },
  {
   "cell_type": "code",
   "execution_count": 12,
   "id": "2f65a012",
   "metadata": {},
   "outputs": [
    {
     "name": "stdout",
     "output_type": "stream",
     "text": [
      "  (46, 0)\t0.07056208123690834\n",
      "  (74, 0)\t0.128190797693362\n",
      "  (117, 0)\t0.06608254888628867\n",
      "  (144, 0)\t0.060198355374348006\n",
      "  (148, 0)\t0.12982967544910354\n",
      "  (186, 0)\t0.05137822896663687\n",
      "  (196, 0)\t0.055797951158238046\n",
      "  (217, 0)\t0.058484880966530026\n",
      "  (369, 0)\t0.09406448580119775\n",
      "  (370, 0)\t0.1458931499702944\n",
      "  (442, 0)\t0.038158989547799\n",
      "  (469, 0)\t0.14100045656856397\n",
      "  (577, 0)\t0.056277063191191315\n",
      "  (578, 0)\t0.11676893141840292\n",
      "  (658, 0)\t0.05858455091781073\n",
      "  (713, 0)\t0.0825124961373678\n",
      "  (748, 0)\t0.05693955167925489\n",
      "  (816, 0)\t0.1518949035008579\n",
      "  (823, 0)\t0.05705502933403545\n",
      "  (869, 0)\t0.11206216613027258\n",
      "  (874, 0)\t0.0801269354833185\n",
      "  (933, 0)\t0.1443871118961135\n",
      "  (997, 0)\t0.06620055391974425\n",
      "  (1201, 0)\t0.09132330616848218\n",
      "  (1233, 0)\t0.05292176897335271\n",
      "  :\t:\n",
      "  (34352, 0)\t0.0760548311421886\n",
      "  (34898, 0)\t0.09154728529601053\n",
      "  (34938, 0)\t0.122622498189258\n",
      "  (34978, 0)\t0.042146875000870804\n",
      "  (35028, 0)\t0.08070127711315\n",
      "  (35278, 0)\t0.06369165860002116\n",
      "  (35285, 0)\t0.043187013976336744\n",
      "  (35546, 0)\t0.13972187628928182\n",
      "  (35549, 0)\t0.2098562995280706\n",
      "  (35665, 0)\t0.0692928906379124\n",
      "  (35776, 0)\t0.15427781755492617\n",
      "  (35807, 0)\t0.14896231171914928\n",
      "  (35997, 0)\t0.04895316794016777\n",
      "  (36014, 0)\t0.06439531050560357\n",
      "  (36202, 0)\t0.09876162221086106\n",
      "  (36246, 0)\t0.04806294347180303\n",
      "  (36353, 0)\t0.10357975194576095\n",
      "  (36502, 0)\t0.06260808949864374\n",
      "  (36720, 0)\t0.04879567103665002\n",
      "  (36803, 0)\t0.06821612486759714\n",
      "  (36845, 0)\t0.058901621712058067\n",
      "  (36895, 0)\t0.043965428659020686\n",
      "  (36979, 0)\t0.0735392209600312\n",
      "  (36996, 0)\t0.09045143781501053\n",
      "  (37354, 0)\t0.10389269201882478\n"
     ]
    }
   ],
   "source": [
    "print(model['matrix'].getcol(13790))"
   ]
  },
  {
   "cell_type": "code",
   "execution_count": 13,
   "id": "c54615af",
   "metadata": {},
   "outputs": [
    {
     "name": "stdout",
     "output_type": "stream",
     "text": [
      "[[0.]\n",
      " [0.]\n",
      " [0.]\n",
      " ...\n",
      " [0.]\n",
      " [0.]\n",
      " [0.]]\n"
     ]
    }
   ],
   "source": [
    "print(model['matrix'].getcol(13790).sorted_indices().toarray())"
   ]
  },
  {
   "cell_type": "code",
   "execution_count": 14,
   "id": "31e115b0",
   "metadata": {},
   "outputs": [],
   "source": [
    "artificial = model['matrix'].getcol(13790).sorted_indices().toarray()"
   ]
  },
  {
   "cell_type": "code",
   "execution_count": 15,
   "id": "22e254a0",
   "metadata": {},
   "outputs": [
    {
     "name": "stdout",
     "output_type": "stream",
     "text": [
      "[[0.]\n",
      " [0.]\n",
      " [0.]\n",
      " ...\n",
      " [0.]\n",
      " [0.]\n",
      " [0.]]\n"
     ]
    }
   ],
   "source": [
    "print(artificial)"
   ]
  },
  {
   "cell_type": "code",
   "execution_count": 16,
   "id": "dfc732b8",
   "metadata": {},
   "outputs": [],
   "source": [
    "intelligence = model['matrix'].getcol(58610).sorted_indices().toarray()"
   ]
  },
  {
   "cell_type": "code",
   "execution_count": 17,
   "id": "26fbee98",
   "metadata": {},
   "outputs": [],
   "source": [
    "recast_artificial = [item[0] for item in artificial]"
   ]
  },
  {
   "cell_type": "code",
   "execution_count": 18,
   "id": "122a9791",
   "metadata": {},
   "outputs": [],
   "source": [
    "recast_intelligence = [item[0] for item in intelligence]"
   ]
  },
  {
   "cell_type": "code",
   "execution_count": 19,
   "id": "e0681617",
   "metadata": {},
   "outputs": [],
   "source": [
    "dfTest = pd.DataFrame({'13790':recast_artificial, '58610':recast_intelligence}, index=model['indexes'])"
   ]
  },
  {
   "cell_type": "code",
   "execution_count": 20,
   "id": "bd9103d2",
   "metadata": {},
   "outputs": [
    {
     "data": {
      "text/html": [
       "<div>\n",
       "<style scoped>\n",
       "    .dataframe tbody tr th:only-of-type {\n",
       "        vertical-align: middle;\n",
       "    }\n",
       "\n",
       "    .dataframe tbody tr th {\n",
       "        vertical-align: top;\n",
       "    }\n",
       "\n",
       "    .dataframe thead th {\n",
       "        text-align: right;\n",
       "    }\n",
       "</style>\n",
       "<table border=\"1\" class=\"dataframe\">\n",
       "  <thead>\n",
       "    <tr style=\"text-align: right;\">\n",
       "      <th></th>\n",
       "      <th>13790</th>\n",
       "      <th>58610</th>\n",
       "    </tr>\n",
       "  </thead>\n",
       "  <tbody>\n",
       "    <tr>\n",
       "      <th>85133492759</th>\n",
       "      <td>0.0</td>\n",
       "      <td>0.0</td>\n",
       "    </tr>\n",
       "    <tr>\n",
       "      <th>85133293730</th>\n",
       "      <td>0.0</td>\n",
       "      <td>0.0</td>\n",
       "    </tr>\n",
       "    <tr>\n",
       "      <th>85132518705</th>\n",
       "      <td>0.0</td>\n",
       "      <td>0.0</td>\n",
       "    </tr>\n",
       "    <tr>\n",
       "      <th>85112575431</th>\n",
       "      <td>0.0</td>\n",
       "      <td>0.0</td>\n",
       "    </tr>\n",
       "    <tr>\n",
       "      <th>85109263966</th>\n",
       "      <td>0.0</td>\n",
       "      <td>0.0</td>\n",
       "    </tr>\n",
       "    <tr>\n",
       "      <th>...</th>\n",
       "      <td>...</td>\n",
       "      <td>...</td>\n",
       "    </tr>\n",
       "    <tr>\n",
       "      <th>0012371997</th>\n",
       "      <td>0.0</td>\n",
       "      <td>0.0</td>\n",
       "    </tr>\n",
       "    <tr>\n",
       "      <th>84918742422</th>\n",
       "      <td>0.0</td>\n",
       "      <td>0.0</td>\n",
       "    </tr>\n",
       "    <tr>\n",
       "      <th>34347185703</th>\n",
       "      <td>0.0</td>\n",
       "      <td>0.0</td>\n",
       "    </tr>\n",
       "    <tr>\n",
       "      <th>33947340215</th>\n",
       "      <td>0.0</td>\n",
       "      <td>0.0</td>\n",
       "    </tr>\n",
       "    <tr>\n",
       "      <th>33947348189</th>\n",
       "      <td>0.0</td>\n",
       "      <td>0.0</td>\n",
       "    </tr>\n",
       "  </tbody>\n",
       "</table>\n",
       "<p>37526 rows × 2 columns</p>\n",
       "</div>"
      ],
      "text/plain": [
       "             13790  58610\n",
       "85133492759    0.0    0.0\n",
       "85133293730    0.0    0.0\n",
       "85132518705    0.0    0.0\n",
       "85112575431    0.0    0.0\n",
       "85109263966    0.0    0.0\n",
       "...            ...    ...\n",
       "0012371997     0.0    0.0\n",
       "84918742422    0.0    0.0\n",
       "34347185703    0.0    0.0\n",
       "33947340215    0.0    0.0\n",
       "33947348189    0.0    0.0\n",
       "\n",
       "[37526 rows x 2 columns]"
      ]
     },
     "execution_count": 20,
     "metadata": {},
     "output_type": "execute_result"
    }
   ],
   "source": [
    "dfTest"
   ]
  },
  {
   "cell_type": "code",
   "execution_count": 21,
   "id": "8d88cbd9",
   "metadata": {
    "scrolled": true
   },
   "outputs": [
    {
     "data": {
      "text/plain": [
       "85108692604    0.551039\n",
       "85105437353    0.537960\n",
       "85120658066    0.495037\n",
       "85074789913    0.466055\n",
       "85126221397    0.446731\n",
       "                 ...   \n",
       "85094159534    0.111390\n",
       "85127056253    0.108430\n",
       "85119413504    0.108337\n",
       "85027222541    0.106231\n",
       "85120833191    0.100875\n",
       "Length: 317, dtype: float64"
      ]
     },
     "execution_count": 21,
     "metadata": {},
     "output_type": "execute_result"
    }
   ],
   "source": [
    "dfTest.drop(dfTest[(dfTest['13790'] == 0) | (dfTest['58610'] == 0)].index).sum(axis=1).sort_values(ascending=False).head(2500)"
   ]
  },
  {
   "cell_type": "code",
   "execution_count": 22,
   "id": "b01f4ecd",
   "metadata": {},
   "outputs": [
    {
     "data": {
      "text/plain": [
       "'85096046296'"
      ]
     },
     "execution_count": 22,
     "metadata": {},
     "output_type": "execute_result"
    }
   ],
   "source": [
    "model['indexes'][6064]"
   ]
  },
  {
   "cell_type": "markdown",
   "id": "5dff9ad7",
   "metadata": {},
   "source": [
    "### 4) Evaluación del modelo"
   ]
  },
  {
   "cell_type": "markdown",
   "id": "25464c06",
   "metadata": {},
   "source": [
    "#### Definición de las stop_words"
   ]
  },
  {
   "cell_type": "code",
   "execution_count": 23,
   "id": "ed18755b",
   "metadata": {},
   "outputs": [],
   "source": [
    "stop_words = [unidecode(stopW) for stopW in stopwords.words('english')]\n",
    "non_words = list(punctuation)\n",
    "non_words.extend(['¿', '¡', '...', '..'])\n",
    "stop_words = stop_words + non_words"
   ]
  },
  {
   "cell_type": "markdown",
   "id": "a4f7d2d4",
   "metadata": {},
   "source": [
    "#### Definir método para preprocesar y tokenizar los topics"
   ]
  },
  {
   "cell_type": "code",
   "execution_count": 24,
   "id": "d2f780a5",
   "metadata": {},
   "outputs": [],
   "source": [
    "def preprocessing(topic):\n",
    "    return [word.lower() for word in tokenizer(unidecode(topic)) if word.lower() not in stop_words]"
   ]
  },
  {
   "cell_type": "markdown",
   "id": "564b64cf",
   "metadata": {},
   "source": [
    "#### Configurar la conexión a la base de datos de Neo4j"
   ]
  },
  {
   "cell_type": "code",
   "execution_count": 25,
   "id": "c28d316a",
   "metadata": {},
   "outputs": [],
   "source": [
    "graph = Graph(\"bolt://localhost:7687\", auth=(\"neo4j\", \"narias\"))"
   ]
  },
  {
   "cell_type": "markdown",
   "id": "a069d3c7",
   "metadata": {},
   "source": [
    "#### Obtener 20 Topics random"
   ]
  },
  {
   "cell_type": "code",
   "execution_count": 26,
   "id": "6e41369d",
   "metadata": {},
   "outputs": [],
   "source": [
    "query = \"\"\"\n",
    "match (topics:Topic )\n",
    "optional match (topics)-[r:USES]-(ar:Article)\n",
    "with topics, count(r) as frequency ORDER BY RAND()\n",
    "where frequency >= 10\n",
    "return topics.name, frequency\n",
    "LIMIT 10\n",
    "\"\"\"\n",
    "res = graph.run(query)"
   ]
  },
  {
   "cell_type": "code",
   "execution_count": 27,
   "id": "b2759d55",
   "metadata": {},
   "outputs": [
    {
     "data": {
      "text/plain": [
       "[{'name': 'Inflammation'},\n",
       " {'name': 'Isoflavones'},\n",
       " {'name': 'Chatbot'},\n",
       " {'name': 'Cryptic diversity'},\n",
       " {'name': 'WCAG'},\n",
       " {'name': 'Sensors'},\n",
       " {'name': 'Brucellosis'},\n",
       " {'name': 'Competitiveness'},\n",
       " {'name': 'Galapagos'},\n",
       " {'name': 'Dispersal'}]"
      ]
     },
     "execution_count": 27,
     "metadata": {},
     "output_type": "execute_result"
    }
   ],
   "source": [
    "topics = []\n",
    "for item in res:\n",
    "    topic = {}\n",
    "    topic['name'] = item.data()['topics.name']\n",
    "    topics.append(topic)\n",
    "topics"
   ]
  },
  {
   "cell_type": "code",
   "execution_count": 28,
   "id": "a9cc5e1d",
   "metadata": {},
   "outputs": [],
   "source": [
    "topics.append({\n",
    "    'name':'covid ecuador'\n",
    "})"
   ]
  },
  {
   "cell_type": "markdown",
   "id": "b121388e",
   "metadata": {},
   "source": [
    "#### Preprocesar y tokenizar los topics"
   ]
  },
  {
   "cell_type": "code",
   "execution_count": 29,
   "id": "cc869846",
   "metadata": {},
   "outputs": [
    {
     "data": {
      "text/plain": [
       "[{'name': 'Inflammation', 'preprocessed': ['inflammation']},\n",
       " {'name': 'Isoflavones', 'preprocessed': ['isoflavones']},\n",
       " {'name': 'Chatbot', 'preprocessed': ['chatbot']},\n",
       " {'name': 'Cryptic diversity', 'preprocessed': ['cryptic', 'diversity']},\n",
       " {'name': 'WCAG', 'preprocessed': ['wcag']},\n",
       " {'name': 'Sensors', 'preprocessed': ['sensors']},\n",
       " {'name': 'Brucellosis', 'preprocessed': ['brucellosis']},\n",
       " {'name': 'Competitiveness', 'preprocessed': ['competitiveness']},\n",
       " {'name': 'Galapagos', 'preprocessed': ['galapagos']},\n",
       " {'name': 'Dispersal', 'preprocessed': ['dispersal']},\n",
       " {'name': 'covid ecuador', 'preprocessed': ['covid', 'ecuador']}]"
      ]
     },
     "execution_count": 29,
     "metadata": {},
     "output_type": "execute_result"
    }
   ],
   "source": [
    "for topic in topics:\n",
    "    topic['preprocessed'] = preprocessing(topic['name'])\n",
    "topics"
   ]
  },
  {
   "cell_type": "markdown",
   "id": "b47b53f4",
   "metadata": {},
   "source": [
    "#### Verificar si todos los tokens estan en el vocabulario "
   ]
  },
  {
   "cell_type": "code",
   "execution_count": 30,
   "id": "d42ba680",
   "metadata": {},
   "outputs": [
    {
     "name": "stdout",
     "output_type": "stream",
     "text": [
      "['inflammation'] True\n",
      "['isoflavones'] True\n",
      "['chatbot'] True\n",
      "['cryptic', 'diversity'] True\n",
      "['wcag'] True\n",
      "['sensors'] True\n",
      "['brucellosis'] True\n",
      "['competitiveness'] True\n",
      "['galapagos'] True\n",
      "['dispersal'] True\n",
      "['covid', 'ecuador'] True\n"
     ]
    }
   ],
   "source": [
    "for index, topic in enumerate(topics):\n",
    "    topicInVocabulary = all(token in model['vocabulary']  for token in topic['preprocessed'])\n",
    "    print(topic['preprocessed'], topicInVocabulary)\n",
    "    if not topicInVocabulary:\n",
    "        topics.pop(index)"
   ]
  },
  {
   "cell_type": "markdown",
   "id": "c3b86ed3",
   "metadata": {},
   "source": [
    "#### Obtener los ids de cada token"
   ]
  },
  {
   "cell_type": "code",
   "execution_count": 31,
   "id": "7413ec6e",
   "metadata": {},
   "outputs": [
    {
     "data": {
      "text/plain": [
       "[{'name': 'Inflammation',\n",
       "  'preprocessed': ['inflammation'],\n",
       "  'tokens_id': [57754]},\n",
       " {'name': 'Isoflavones',\n",
       "  'preprocessed': ['isoflavones'],\n",
       "  'tokens_id': [60208]},\n",
       " {'name': 'Chatbot', 'preprocessed': ['chatbot'], 'tokens_id': [24061]},\n",
       " {'name': 'Cryptic diversity',\n",
       "  'preprocessed': ['cryptic', 'diversity'],\n",
       "  'tokens_id': [30568, 36193]},\n",
       " {'name': 'WCAG', 'preprocessed': ['wcag'], 'tokens_id': [118193]},\n",
       " {'name': 'Sensors', 'preprocessed': ['sensors'], 'tokens_id': [100296]},\n",
       " {'name': 'Brucellosis',\n",
       "  'preprocessed': ['brucellosis'],\n",
       "  'tokens_id': [20022]},\n",
       " {'name': 'Competitiveness',\n",
       "  'preprocessed': ['competitiveness'],\n",
       "  'tokens_id': [27423]},\n",
       " {'name': 'Galapagos', 'preprocessed': ['galapagos'], 'tokens_id': [47591]},\n",
       " {'name': 'Dispersal', 'preprocessed': ['dispersal'], 'tokens_id': [35855]},\n",
       " {'name': 'covid ecuador',\n",
       "  'preprocessed': ['covid', 'ecuador'],\n",
       "  'tokens_id': [29731, 38364]}]"
      ]
     },
     "execution_count": 31,
     "metadata": {},
     "output_type": "execute_result"
    }
   ],
   "source": [
    "for topic in topics:\n",
    "    topic['tokens_id'] = [model['vocabulary'][token]  for token in topic['preprocessed']]\n",
    "topics"
   ]
  },
  {
   "cell_type": "markdown",
   "id": "53074f67",
   "metadata": {},
   "source": [
    "#### Definir metodo para obtener los artículos mas relevantes por topic"
   ]
  },
  {
   "cell_type": "code",
   "execution_count": 32,
   "id": "cf852e90",
   "metadata": {},
   "outputs": [],
   "source": [
    "#topic: tokens_id (ej. [73720, 99235])\n",
    "def mostRelevantDocsByTopic(tokens_id):\n",
    "    data = {}\n",
    "    for token_id in tokens_id:\n",
    "        data[token_id] = [item[0] for item in model['matrix'].getcol(token_id).sorted_indices().toarray()]\n",
    "    dfResult = pd.DataFrame(data=data, index=model['indexes'])   \n",
    "    return dfResult[(dfResult != 0).all(1)].sum(axis=1).sort_values(ascending=False).head(50).index.to_list()"
   ]
  },
  {
   "cell_type": "code",
   "execution_count": 33,
   "id": "3ffcfc80",
   "metadata": {},
   "outputs": [],
   "source": [
    "for topic in topics:\n",
    "    topic['top_docs'] = mostRelevantDocsByTopic(topic['tokens_id'])"
   ]
  },
  {
   "cell_type": "code",
   "execution_count": 34,
   "id": "32079c15",
   "metadata": {},
   "outputs": [
    {
     "data": {
      "text/plain": [
       "[{'name': 'Inflammation',\n",
       "  'preprocessed': ['inflammation'],\n",
       "  'tokens_id': [57754],\n",
       "  'top_docs': ['85073292079',\n",
       "   '85123673947',\n",
       "   '85101805554',\n",
       "   '85054410994',\n",
       "   '85117153578',\n",
       "   '85128000215',\n",
       "   '84876785654',\n",
       "   '85100869710',\n",
       "   '85029532763',\n",
       "   '85098006871',\n",
       "   '84952333801',\n",
       "   '85133441912',\n",
       "   '33846217312',\n",
       "   '84952932536',\n",
       "   '85079404426',\n",
       "   '67649268360',\n",
       "   '85131810451',\n",
       "   '84865610078',\n",
       "   '85115699250',\n",
       "   '85102441230',\n",
       "   '33645857665',\n",
       "   '84896396182',\n",
       "   '85066777908',\n",
       "   '85089122701',\n",
       "   '84918526111',\n",
       "   '85102328073',\n",
       "   '85051023355',\n",
       "   '85085921128',\n",
       "   '85083785645',\n",
       "   '85073267272',\n",
       "   '85121579333',\n",
       "   '70349170306',\n",
       "   '85044470406',\n",
       "   '85085754876',\n",
       "   '85114909981',\n",
       "   '85123325418',\n",
       "   '84882641636',\n",
       "   '85079753228',\n",
       "   '85054905783',\n",
       "   '85111632472',\n",
       "   '84869186783',\n",
       "   '85044453078',\n",
       "   '0035208903',\n",
       "   '85091356808',\n",
       "   '85021073020',\n",
       "   '85085952916',\n",
       "   '85109735174',\n",
       "   '85077715134',\n",
       "   '85116151601',\n",
       "   '85064838133']},\n",
       " {'name': 'Isoflavones',\n",
       "  'preprocessed': ['isoflavones'],\n",
       "  'tokens_id': [60208],\n",
       "  'top_docs': ['85008165484',\n",
       "   '85043594352',\n",
       "   '33845689034',\n",
       "   '76349088258',\n",
       "   '79953827609',\n",
       "   '56749105557',\n",
       "   '84954616992',\n",
       "   '84935891845',\n",
       "   '33746357557',\n",
       "   '29944437905',\n",
       "   '84856943665',\n",
       "   '84905282440',\n",
       "   '84905219451',\n",
       "   '85099996914',\n",
       "   '85097463388']},\n",
       " {'name': 'Chatbot',\n",
       "  'preprocessed': ['chatbot'],\n",
       "  'tokens_id': [24061],\n",
       "  'top_docs': ['85072919978',\n",
       "   '85123734741',\n",
       "   '85089020820',\n",
       "   '85107364417',\n",
       "   '85081933025',\n",
       "   '85050887630',\n",
       "   '85099283521',\n",
       "   '85094610752',\n",
       "   '85126221397',\n",
       "   '85081246401',\n",
       "   '85112263496',\n",
       "   '85122674629',\n",
       "   '85070078090',\n",
       "   '85097643568',\n",
       "   '85055453643',\n",
       "   '85027222541',\n",
       "   '85103742765',\n",
       "   '85115148045',\n",
       "   '85119404810',\n",
       "   '85105001214',\n",
       "   '85096923025',\n",
       "   '85061199912',\n",
       "   '85070090312',\n",
       "   '85098601460',\n",
       "   '85112137572',\n",
       "   '85119006966',\n",
       "   '85107328964',\n",
       "   '85079096775']},\n",
       " {'name': 'Cryptic diversity',\n",
       "  'preprocessed': ['cryptic', 'diversity'],\n",
       "  'tokens_id': [30568, 36193],\n",
       "  'top_docs': ['84975109062',\n",
       "   '84858784241',\n",
       "   '84942905024',\n",
       "   '85097744612',\n",
       "   '84975303619',\n",
       "   '85057631434',\n",
       "   '85070805570',\n",
       "   '85049879369',\n",
       "   '85091152809',\n",
       "   '85072099494',\n",
       "   '85092355554',\n",
       "   '85127068619',\n",
       "   '85063497991',\n",
       "   '25444495696',\n",
       "   '84976235589',\n",
       "   '85096146949',\n",
       "   '85097026650',\n",
       "   '85112266287',\n",
       "   '85018945017',\n",
       "   '84875069231',\n",
       "   '85101375885',\n",
       "   '84892388338',\n",
       "   '84908450775',\n",
       "   '84904991609',\n",
       "   '85112129339',\n",
       "   '84963718008',\n",
       "   '85062514294',\n",
       "   '84959361571',\n",
       "   '85087460583',\n",
       "   '84984963158',\n",
       "   '84923589343',\n",
       "   '85079369815',\n",
       "   '84989196151',\n",
       "   '85088665917',\n",
       "   '84868158932',\n",
       "   '85080920629',\n",
       "   '84889854787',\n",
       "   '85093874130',\n",
       "   '84859497835',\n",
       "   '85020027889',\n",
       "   '33646488394',\n",
       "   '85127561496',\n",
       "   '85124373103',\n",
       "   '84879487233',\n",
       "   '85014357657',\n",
       "   '84892726832',\n",
       "   '85086572203',\n",
       "   '85118199397',\n",
       "   '85061739216',\n",
       "   '84989191875']},\n",
       " {'name': 'WCAG',\n",
       "  'preprocessed': ['wcag'],\n",
       "  'tokens_id': [118193],\n",
       "  'top_docs': ['85041016983',\n",
       "   '85007379609',\n",
       "   '85026826551',\n",
       "   '85101635978',\n",
       "   '85088250422',\n",
       "   '85044269391',\n",
       "   '85119419253',\n",
       "   '84983568815',\n",
       "   '85067362341',\n",
       "   '85106829150',\n",
       "   '85049029475',\n",
       "   '85112223711',\n",
       "   '85112183658',\n",
       "   '85088254776',\n",
       "   '85107025603',\n",
       "   '85082393229',\n",
       "   '84982133129',\n",
       "   '85085546496',\n",
       "   '85116883148',\n",
       "   '85044283341',\n",
       "   '85006766667',\n",
       "   '84963737108',\n",
       "   '85045222485',\n",
       "   '85041063596',\n",
       "   '85060702930',\n",
       "   '85088271093',\n",
       "   '85089145674',\n",
       "   '85112232792',\n",
       "   '85091819888',\n",
       "   '84979530403',\n",
       "   '85112157085',\n",
       "   '85049622351',\n",
       "   '85068235941',\n",
       "   '85117218354',\n",
       "   '85063211545',\n",
       "   '84964791114',\n",
       "   '85044278126',\n",
       "   '85049026008',\n",
       "   '85087414020',\n",
       "   '84963745643',\n",
       "   '85049618371',\n",
       "   '85125879855',\n",
       "   '85061377142',\n",
       "   '85081909545',\n",
       "   '85063867910',\n",
       "   '85081114386',\n",
       "   '85112205126',\n",
       "   '84903147588',\n",
       "   '85081922414',\n",
       "   '84983507411']},\n",
       " {'name': 'Sensors',\n",
       "  'preprocessed': ['sensors'],\n",
       "  'tokens_id': [100296],\n",
       "  'top_docs': ['85102267115',\n",
       "   '85025821163',\n",
       "   '84959351776',\n",
       "   '85046445164',\n",
       "   '85115184534',\n",
       "   '85049885291',\n",
       "   '85045760217',\n",
       "   '84863915104',\n",
       "   '84991738411',\n",
       "   '84964862429',\n",
       "   '85065994314',\n",
       "   '84925267053',\n",
       "   '85079484703',\n",
       "   '85078361266',\n",
       "   '85010417585',\n",
       "   '84904562681',\n",
       "   '85078721133',\n",
       "   '85098290777',\n",
       "   '85097280663',\n",
       "   '85077821196',\n",
       "   '85100209796',\n",
       "   '85043229631',\n",
       "   '85047395355',\n",
       "   '85048317286',\n",
       "   '85089629037',\n",
       "   '84964330109',\n",
       "   '85125278707',\n",
       "   '85049903830',\n",
       "   '85033366968',\n",
       "   '85076933673',\n",
       "   '85060605180',\n",
       "   '85006341816',\n",
       "   '85071772812',\n",
       "   '85107454734',\n",
       "   '85123623514',\n",
       "   '84969759692',\n",
       "   '85072750044',\n",
       "   '85079692240',\n",
       "   '85132073463',\n",
       "   '84960892039',\n",
       "   '85060284828',\n",
       "   '85113826923',\n",
       "   '85049190906',\n",
       "   '85116757870',\n",
       "   '85048274789',\n",
       "   '85063892035',\n",
       "   '85104300323',\n",
       "   '85088918972',\n",
       "   '85076228130',\n",
       "   '85049875368']},\n",
       " {'name': 'Brucellosis',\n",
       "  'preprocessed': ['brucellosis'],\n",
       "  'tokens_id': [20022],\n",
       "  'top_docs': ['84875304763',\n",
       "   '85054591680',\n",
       "   '85053804596',\n",
       "   '84894169059',\n",
       "   '84978804578',\n",
       "   '85054591966',\n",
       "   '85044715178',\n",
       "   '85045897344',\n",
       "   '85126057608',\n",
       "   '85067373833',\n",
       "   '84959265603',\n",
       "   '85058803288',\n",
       "   '85113439663',\n",
       "   '85002072850',\n",
       "   '84898751390',\n",
       "   '85067105838',\n",
       "   '85011559342',\n",
       "   '85108560106',\n",
       "   '85017186829',\n",
       "   '84865991290',\n",
       "   '84947460186',\n",
       "   '67650281484']},\n",
       " {'name': 'Competitiveness',\n",
       "  'preprocessed': ['competitiveness'],\n",
       "  'tokens_id': [27423],\n",
       "  'top_docs': ['85066038351',\n",
       "   '85051474736',\n",
       "   '85044254878',\n",
       "   '85019392503',\n",
       "   '85065614872',\n",
       "   '85100847213',\n",
       "   '85080881717',\n",
       "   '85071366014',\n",
       "   '85051532038',\n",
       "   '85120605889',\n",
       "   '85066252654',\n",
       "   '85129748068',\n",
       "   '85097103584',\n",
       "   '85049921563',\n",
       "   '85100817016',\n",
       "   '85074352362',\n",
       "   '85071368402',\n",
       "   '85027065220',\n",
       "   '85096792645',\n",
       "   '85072082682',\n",
       "   '85128290444',\n",
       "   '85109533443',\n",
       "   '85117190522',\n",
       "   '85112575431',\n",
       "   '85009453121',\n",
       "   '85077923527',\n",
       "   '85116793140',\n",
       "   '85066269802',\n",
       "   '84951109571',\n",
       "   '85081886030',\n",
       "   '85115873555',\n",
       "   '85100833871',\n",
       "   '85108580900',\n",
       "   '85123741525',\n",
       "   '85051104494',\n",
       "   '85104930250',\n",
       "   '85128316193',\n",
       "   '85112312109',\n",
       "   '85046483032',\n",
       "   '85077070457',\n",
       "   '85106158674',\n",
       "   '85096796415',\n",
       "   '85066953244',\n",
       "   '85026826551',\n",
       "   '85064734202',\n",
       "   '85106567133',\n",
       "   '85127218021',\n",
       "   '85097121419',\n",
       "   '85074153332',\n",
       "   '84996757902']},\n",
       " {'name': 'Galapagos',\n",
       "  'preprocessed': ['galapagos'],\n",
       "  'tokens_id': [47591],\n",
       "  'top_docs': ['84921047213',\n",
       "   '37249069601',\n",
       "   '85055073333',\n",
       "   '85073552535',\n",
       "   '85133488337',\n",
       "   '84900871335',\n",
       "   '84974830973',\n",
       "   '85063249456',\n",
       "   '84999791849',\n",
       "   '0021082895',\n",
       "   '85082570604',\n",
       "   '85091436770',\n",
       "   '85032202867',\n",
       "   '85131587227',\n",
       "   '85117218640',\n",
       "   '85080802941',\n",
       "   '84856042700',\n",
       "   '49349095657',\n",
       "   '84964225138',\n",
       "   '84893387586',\n",
       "   '85081585285',\n",
       "   '84946724529',\n",
       "   '84946780321',\n",
       "   '0036733320',\n",
       "   '85006470235',\n",
       "   '84873882806',\n",
       "   '0023528119',\n",
       "   '85092622069',\n",
       "   '48849110431',\n",
       "   '84883825151',\n",
       "   '84965104805',\n",
       "   '85132240597',\n",
       "   '85105641775',\n",
       "   '85127578683',\n",
       "   '84994888082',\n",
       "   '85053246950',\n",
       "   '67649875615',\n",
       "   '85055633293',\n",
       "   '85071546909',\n",
       "   '34248214142',\n",
       "   '84986469426',\n",
       "   '85060749010',\n",
       "   '85042208258',\n",
       "   '85029407965',\n",
       "   '85059068314',\n",
       "   '84880962031',\n",
       "   '85002339105',\n",
       "   '0035410345',\n",
       "   '85075351936',\n",
       "   '70449723371']},\n",
       " {'name': 'Dispersal',\n",
       "  'preprocessed': ['dispersal'],\n",
       "  'tokens_id': [35855],\n",
       "  'top_docs': ['80155191156',\n",
       "   '84942837687',\n",
       "   '85042216720',\n",
       "   '85085169028',\n",
       "   '85114322798',\n",
       "   '85049925496',\n",
       "   '85062303179',\n",
       "   '34848912213',\n",
       "   '85118312348',\n",
       "   '79959800392',\n",
       "   '85024377014',\n",
       "   '85050494339',\n",
       "   '85057631434',\n",
       "   '85105222820',\n",
       "   '85087156060',\n",
       "   '84872155208',\n",
       "   '85097864526',\n",
       "   '84894487083',\n",
       "   '84971351734',\n",
       "   '84958291843',\n",
       "   '85127431422',\n",
       "   '84968677334',\n",
       "   '85043767865',\n",
       "   '84940438399',\n",
       "   '85111704007',\n",
       "   '85043521629',\n",
       "   '80053180562',\n",
       "   '84872188318',\n",
       "   '33645227657',\n",
       "   '85063236239',\n",
       "   '85089156906',\n",
       "   '84939798454',\n",
       "   '84926109616',\n",
       "   '85050682604',\n",
       "   '85096715098',\n",
       "   '85062819197',\n",
       "   '69749091222',\n",
       "   '85043479583',\n",
       "   '85007507988',\n",
       "   '84975303587',\n",
       "   '33748359725',\n",
       "   '85109193350',\n",
       "   '85014406393',\n",
       "   '85124616406',\n",
       "   '85081028780',\n",
       "   '85058854988',\n",
       "   '85037641943',\n",
       "   '84883739969',\n",
       "   '0031082957',\n",
       "   '84867684138']},\n",
       " {'name': 'covid ecuador',\n",
       "  'preprocessed': ['covid', 'ecuador'],\n",
       "  'tokens_id': [29731, 38364],\n",
       "  'top_docs': ['85109407726',\n",
       "   '85112013042',\n",
       "   '85104914659',\n",
       "   '85086759395',\n",
       "   '85122039487',\n",
       "   '85100847213',\n",
       "   '85100202318',\n",
       "   '85124397880',\n",
       "   '85101897707',\n",
       "   '85100858810',\n",
       "   '85125483589',\n",
       "   '85128084791',\n",
       "   '85097625116',\n",
       "   '85094557200',\n",
       "   '85099288635',\n",
       "   '85100216373',\n",
       "   '85100818274',\n",
       "   '85109081464',\n",
       "   '85111669773',\n",
       "   '85092253488',\n",
       "   '85107088984',\n",
       "   '85127060626',\n",
       "   '85120779361',\n",
       "   '85108546080',\n",
       "   '85125002418',\n",
       "   '85107369667',\n",
       "   '85092305071',\n",
       "   '85110352588',\n",
       "   '85123016303',\n",
       "   '85105876424',\n",
       "   '85121566669',\n",
       "   '85112218034',\n",
       "   '85100859791',\n",
       "   '85087559836',\n",
       "   '85126779095',\n",
       "   '85098086175',\n",
       "   '85127559439',\n",
       "   '85099776337',\n",
       "   '85104867354',\n",
       "   '85125426541',\n",
       "   '85124379722',\n",
       "   '85100865540',\n",
       "   '85116030081',\n",
       "   '85115772290',\n",
       "   '85102481936',\n",
       "   '85108980400',\n",
       "   '85126714150',\n",
       "   '85094619082',\n",
       "   '85128786779',\n",
       "   '85119041515']}]"
      ]
     },
     "execution_count": 34,
     "metadata": {},
     "output_type": "execute_result"
    }
   ],
   "source": [
    "topics"
   ]
  },
  {
   "cell_type": "code",
   "execution_count": null,
   "id": "dfb2d99e",
   "metadata": {},
   "outputs": [],
   "source": []
  },
  {
   "cell_type": "code",
   "execution_count": null,
   "id": "19928579",
   "metadata": {},
   "outputs": [],
   "source": []
  },
  {
   "cell_type": "code",
   "execution_count": null,
   "id": "9e420952",
   "metadata": {},
   "outputs": [],
   "source": []
  }
 ],
 "metadata": {
  "kernelspec": {
   "display_name": "Python 3 (ipykernel)",
   "language": "python",
   "name": "python3"
  },
  "language_info": {
   "codemirror_mode": {
    "name": "ipython",
    "version": 3
   },
   "file_extension": ".py",
   "mimetype": "text/x-python",
   "name": "python",
   "nbconvert_exporter": "python",
   "pygments_lexer": "ipython3",
   "version": "3.9.7"
  }
 },
 "nbformat": 4,
 "nbformat_minor": 5
}
