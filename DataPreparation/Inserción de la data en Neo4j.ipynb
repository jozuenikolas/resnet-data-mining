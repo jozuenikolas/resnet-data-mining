{
 "cells": [
  {
   "cell_type": "markdown",
   "id": "dcd718ef",
   "metadata": {},
   "source": [
    "<h1 style=\"text-align:center;\"><strong>Inserción de la data en Neo4j<strong></h1>"
   ]
  },
  {
   "cell_type": "markdown",
   "id": "0b28ae39",
   "metadata": {},
   "source": [
    "### Importar librerías"
   ]
  },
  {
   "cell_type": "code",
   "execution_count": null,
   "id": "791c77f2",
   "metadata": {},
   "outputs": [],
   "source": [
    "from py2neo import Graph\n",
    "import time"
   ]
  },
  {
   "cell_type": "markdown",
   "id": "dd71e513",
   "metadata": {},
   "source": [
    "### Definir las rutas de los archivos que contienen la data"
   ]
  },
  {
   "cell_type": "code",
   "execution_count": null,
   "id": "225d8873",
   "metadata": {},
   "outputs": [],
   "source": [
    "base_path = \"file:///\""
   ]
  },
  {
   "cell_type": "code",
   "execution_count": null,
   "id": "686c5e1c",
   "metadata": {},
   "outputs": [],
   "source": [
    "affiliations_path = base_path+\"affiliations.csv\"\n",
    "print(affiliations_path)"
   ]
  },
  {
   "cell_type": "code",
   "execution_count": null,
   "id": "9442f882",
   "metadata": {},
   "outputs": [],
   "source": [
    "articles_path = base_path+\"articles.csv\"\n",
    "print(articles_path)"
   ]
  },
  {
   "cell_type": "code",
   "execution_count": null,
   "id": "a4ac8f38",
   "metadata": {},
   "outputs": [],
   "source": [
    "authors_path = base_path+\"authors.csv\"\n",
    "print(authors_path)"
   ]
  },
  {
   "cell_type": "code",
   "execution_count": null,
   "id": "f308c552",
   "metadata": {},
   "outputs": [],
   "source": [
    "author_keywords_path = base_path+\"author_keywords.csv\"\n",
    "print(author_keywords_path)"
   ]
  },
  {
   "cell_type": "code",
   "execution_count": null,
   "id": "038d4ce9",
   "metadata": {},
   "outputs": [],
   "source": [
    "articles_affiliations_path = base_path+\"articles_affiliations.csv\"\n",
    "print(articles_affiliations_path)"
   ]
  },
  {
   "cell_type": "code",
   "execution_count": null,
   "id": "9b4ddc7c",
   "metadata": {},
   "outputs": [],
   "source": [
    "articles_authors_path = base_path+\"articles_authors.csv\"\n",
    "print(articles_authors_path)"
   ]
  },
  {
   "cell_type": "code",
   "execution_count": null,
   "id": "d82870e5",
   "metadata": {},
   "outputs": [],
   "source": [
    "authors_affiliations_path = base_path+\"authors_affiliations.csv\"\n",
    "print(authors_affiliations_path)"
   ]
  },
  {
   "cell_type": "code",
   "execution_count": null,
   "id": "412fcd42",
   "metadata": {},
   "outputs": [],
   "source": [
    "articles_author_keywords_path = base_path+\"articles_author_keywords.csv\"\n",
    "print(articles_author_keywords_path)"
   ]
  },
  {
   "cell_type": "code",
   "execution_count": null,
   "id": "39192c8b",
   "metadata": {},
   "outputs": [],
   "source": [
    "collab_strengths_path = base_path+\"collab_strength.csv\"\n",
    "print(collab_strengths_path)"
   ]
  },
  {
   "cell_type": "markdown",
   "id": "0193e622",
   "metadata": {},
   "source": [
    "### Configurar la conexión a la base de datos Neo4j"
   ]
  },
  {
   "cell_type": "code",
   "execution_count": null,
   "id": "b717309a",
   "metadata": {},
   "outputs": [],
   "source": [
    "graph = Graph(\"bolt://20.127.223.251\", auth=(\"neo4j\", \"narias98\"))"
   ]
  },
  {
   "cell_type": "markdown",
   "id": "806a03d3",
   "metadata": {},
   "source": [
    "### Eliminar toda la data de la base de datos de Neo4j"
   ]
  },
  {
   "cell_type": "code",
   "execution_count": null,
   "id": "46632cb6",
   "metadata": {},
   "outputs": [],
   "source": [
    "query = \"\"\"\n",
    "MATCH (n)\n",
    "CALL {\n",
    "  WITH n\n",
    "  DETACH DELETE n\n",
    "} IN TRANSACTIONS\n",
    "\"\"\"\n",
    "graph.run(query)"
   ]
  },
  {
   "cell_type": "markdown",
   "id": "436d3f74",
   "metadata": {},
   "source": [
    "### Eliminar los constraints a la base de datos"
   ]
  },
  {
   "cell_type": "code",
   "execution_count": null,
   "id": "339b3c9e",
   "metadata": {},
   "outputs": [],
   "source": [
    "#Elimina los constraints si existen\n",
    "graph.run(\"DROP CONSTRAINT affiliationScopusIdConstraint IF EXISTS\")\n",
    "graph.run(\"DROP CONSTRAINT articleScopusIdConstraint IF EXISTS\")\n",
    "graph.run(\"DROP CONSTRAINT authorScopusIdConstraint IF EXISTS\")\n",
    "graph.run(\"DROP CONSTRAINT topicsNameConstraint IF EXISTS\")"
   ]
  },
  {
   "cell_type": "markdown",
   "id": "81227adf",
   "metadata": {},
   "source": [
    "### Crear los constraints"
   ]
  },
  {
   "cell_type": "code",
   "execution_count": null,
   "id": "29a3fbc3",
   "metadata": {},
   "outputs": [],
   "source": [
    "#Timer Start\n",
    "timerStart = time.time()"
   ]
  },
  {
   "cell_type": "code",
   "execution_count": null,
   "id": "06f8d185",
   "metadata": {},
   "outputs": [],
   "source": [
    "#Constraint del id de las afiliaciones\n",
    "graph.run(\"CREATE CONSTRAINT affiliationScopusIdConstraint FOR (af:Affiliation) REQUIRE af.scopus_id IS UNIQUE\")"
   ]
  },
  {
   "cell_type": "code",
   "execution_count": null,
   "id": "c11a3c42",
   "metadata": {},
   "outputs": [],
   "source": [
    "#Constraint del id de los articulos\n",
    "graph.run(\"CREATE CONSTRAINT articleScopusIdConstraint FOR (ar:Article) REQUIRE ar.scopus_id IS UNIQUE\")"
   ]
  },
  {
   "cell_type": "code",
   "execution_count": null,
   "id": "01af79a5",
   "metadata": {},
   "outputs": [],
   "source": [
    "#Constraint del id de los autores\n",
    "graph.run(\"CREATE CONSTRAINT authorScopusIdConstraint FOR (au:Author) REQUIRE au.scopus_id IS UNIQUE\")"
   ]
  },
  {
   "cell_type": "code",
   "execution_count": null,
   "id": "d60ab52d",
   "metadata": {},
   "outputs": [],
   "source": [
    "#Constraint del name de las author_keywords\n",
    "graph.run(\"CREATE CONSTRAINT topicsNameConstraint FOR (t:Topic) REQUIRE t.name IS UNIQUE\")"
   ]
  },
  {
   "cell_type": "markdown",
   "id": "204e5f37",
   "metadata": {},
   "source": [
    "### Inserción de la data en Neo4j"
   ]
  },
  {
   "cell_type": "code",
   "execution_count": null,
   "id": "774874b9",
   "metadata": {},
   "outputs": [],
   "source": [
    "#affiliations\n",
    "query = \"\"\"\n",
    "LOAD CSV WITH HEADERS \n",
    "FROM \"\"\"+'\"'+affiliations_path+'\"'+\"\"\" AS csvLine\n",
    "CREATE (af:Affiliation {scopus_id: csvLine.identifier, \n",
    "name: csvLine.affiliation_name,\n",
    "city: csvLine.city,\n",
    "country: csvLine.country\n",
    "})\n",
    "RETURN count(af)\n",
    "\"\"\"\n",
    "graph.run(query)"
   ]
  },
  {
   "cell_type": "markdown",
   "id": "1bc11ea5",
   "metadata": {},
   "source": [
    "---------------------------------------------------------------------------------------"
   ]
  },
  {
   "cell_type": "markdown",
   "id": "30e6f3ee",
   "metadata": {},
   "source": [
    "---------------------------------------------------------------------------------------"
   ]
  },
  {
   "cell_type": "code",
   "execution_count": null,
   "id": "7a10d0bc",
   "metadata": {},
   "outputs": [],
   "source": [
    "#articles\n",
    "query = \"\"\"\n",
    "LOAD CSV WITH HEADERS \n",
    "FROM \"\"\"+'\"'+articles_path+'\"'+\"\"\" AS csvLine\n",
    "CREATE (ar:Article {scopus_id: csvLine.identifier, \n",
    "title: csvLine.title,\n",
    "publication_date: csvLine.publication_date,\n",
    "doi: csvLine.doi,\n",
    "abstract: csvLine.abstract,\n",
    "author_count: csvLine.author_count,\n",
    "affiliation_count: csvLine.affiliation_count,\n",
    "corpus: csvLine.corpus\n",
    "})\n",
    "RETURN count(ar)\n",
    "\"\"\"\n",
    "graph.run(query)"
   ]
  },
  {
   "cell_type": "markdown",
   "id": "a5702033",
   "metadata": {},
   "source": [
    "---------------------------------------------------------------------------------------"
   ]
  },
  {
   "cell_type": "markdown",
   "id": "678e7d4b",
   "metadata": {},
   "source": [
    "---------------------------------------------------------------------------------------"
   ]
  },
  {
   "cell_type": "code",
   "execution_count": null,
   "id": "58cb4ded",
   "metadata": {},
   "outputs": [],
   "source": [
    "#authors\n",
    "query = \"\"\"\n",
    "LOAD CSV WITH HEADERS \n",
    "FROM \"\"\"+'\"'+authors_path+'\"'+\"\"\" AS csvLine\n",
    "CREATE (au:Author {scopus_id: csvLine.identifier, \n",
    "first_name: csvLine.first_name,\n",
    "last_name: csvLine.last_name,\n",
    "auth_name: csvLine.auth_name,\n",
    "initials: csvLine.initials\n",
    "})\n",
    "RETURN count(au)\n",
    "\"\"\"\n",
    "graph.run(query)"
   ]
  },
  {
   "cell_type": "markdown",
   "id": "2528ec55",
   "metadata": {},
   "source": [
    "---------------------------------------------------------------------------------------"
   ]
  },
  {
   "cell_type": "markdown",
   "id": "119b43a7",
   "metadata": {},
   "source": [
    "---------------------------------------------------------------------------------------"
   ]
  },
  {
   "cell_type": "code",
   "execution_count": null,
   "id": "3ef1e9ca",
   "metadata": {},
   "outputs": [],
   "source": [
    "#author_keywords\n",
    "query = \"\"\"\n",
    "LOAD CSV WITH HEADERS \n",
    "FROM \"\"\"+'\"'+author_keywords_path+'\"'+\"\"\" AS csvLine\n",
    "CREATE (t:Topic {name: csvLine.name\n",
    "})\n",
    "RETURN count(t)\n",
    "\"\"\"\n",
    "graph.run(query)"
   ]
  },
  {
   "cell_type": "markdown",
   "id": "88669e16",
   "metadata": {},
   "source": [
    "---------------------------------------------------------------------------------------"
   ]
  },
  {
   "cell_type": "markdown",
   "id": "47fc4eef",
   "metadata": {},
   "source": [
    "---------------------------------------------------------------------------------------"
   ]
  },
  {
   "cell_type": "code",
   "execution_count": null,
   "id": "4165aca0",
   "metadata": {},
   "outputs": [],
   "source": [
    "#articles_affiliations\n",
    "query = \"\"\"\n",
    "LOAD CSV WITH HEADERS \n",
    "FROM \"\"\"+'\"'+articles_affiliations_path+'\"'+\"\"\" AS csvLine\n",
    "MATCH (ar:Article {scopus_id: csvLine.article_id}), \n",
    "(af:Affiliation {scopus_id: csvLine.affiliation_id})\n",
    "CREATE (ar)-[r:BELONGS_TO]->(af)\n",
    "RETURN count(r)\n",
    "\"\"\"\n",
    "graph.run(query)"
   ]
  },
  {
   "cell_type": "markdown",
   "id": "a1fa9bb6",
   "metadata": {},
   "source": [
    "---------------------------------------------------------------------------------------"
   ]
  },
  {
   "cell_type": "markdown",
   "id": "8d964b65",
   "metadata": {},
   "source": [
    "---------------------------------------------------------------------------------------"
   ]
  },
  {
   "cell_type": "code",
   "execution_count": null,
   "id": "3acf9078",
   "metadata": {},
   "outputs": [],
   "source": [
    "#articles_authors\n",
    "query = \"\"\"\n",
    "LOAD CSV WITH HEADERS \n",
    "FROM \"\"\"+'\"'+articles_authors_path+'\"'+\"\"\" AS csvLine\n",
    "MATCH (au:Author {scopus_id: csvLine.author_id}), \n",
    "(ar:Article {scopus_id: csvLine.article_id})\n",
    "CREATE (au)-[r:WROTE]->(ar)\n",
    "RETURN count(r)\n",
    "\"\"\"\n",
    "graph.run(query)"
   ]
  },
  {
   "cell_type": "markdown",
   "id": "19803e6b",
   "metadata": {},
   "source": [
    "---------------------------------------------------------------------------------------"
   ]
  },
  {
   "cell_type": "markdown",
   "id": "32448feb",
   "metadata": {},
   "source": [
    "---------------------------------------------------------------------------------------"
   ]
  },
  {
   "cell_type": "code",
   "execution_count": null,
   "id": "0707a495",
   "metadata": {},
   "outputs": [],
   "source": [
    "#authors_affiliations\n",
    "query = \"\"\"\n",
    "LOAD CSV WITH HEADERS \n",
    "FROM \"\"\"+'\"'+authors_affiliations_path+'\"'+\"\"\" AS csvLine\n",
    "MATCH (au:Author {scopus_id: csvLine.author_id}), \n",
    "(af:Affiliation {scopus_id: csvLine.affiliation_id})\n",
    "CREATE (au)-[r:AFFILIATED_WITH]->(af)\n",
    "RETURN count(r)\n",
    "\"\"\"\n",
    "graph.run(query)"
   ]
  },
  {
   "cell_type": "markdown",
   "id": "54a807dd",
   "metadata": {},
   "source": [
    "---------------------------------------------------------------------------------------"
   ]
  },
  {
   "cell_type": "markdown",
   "id": "09bdb596",
   "metadata": {},
   "source": [
    "---------------------------------------------------------------------------------------"
   ]
  },
  {
   "cell_type": "code",
   "execution_count": null,
   "id": "ee2cc352",
   "metadata": {},
   "outputs": [],
   "source": [
    "#articles_author_keywords\n",
    "query = \"\"\"\n",
    "LOAD CSV WITH HEADERS FROM \"\"\"+'\"'+articles_author_keywords_path+'\"'+\"\"\" AS csvLine\n",
    "CALL {\n",
    "  WITH csvLine\n",
    "  MATCH (ar:Article {scopus_id: csvLine.article_id}),\n",
    "  (t:Topic {name:csvLine.author_keyword})\n",
    "  CREATE (ar)-[r:USES]->(t)\n",
    "} IN TRANSACTIONS\n",
    "\"\"\"\n",
    "graph.run(query)"
   ]
  },
  {
   "cell_type": "markdown",
   "id": "8eef3b91",
   "metadata": {},
   "source": [
    "---------------------------------------------------------------------------------------"
   ]
  },
  {
   "cell_type": "markdown",
   "id": "eb1fbd87",
   "metadata": {},
   "source": [
    "---------------------------------------------------------------------------------------"
   ]
  },
  {
   "cell_type": "code",
   "execution_count": null,
   "id": "58b5a0e9",
   "metadata": {},
   "outputs": [],
   "source": [
    "#collab_strength\n",
    "query = \"\"\"\n",
    "LOAD CSV WITH HEADERS \n",
    "FROM \"\"\"+'\"'+collab_strengths_path+'\"'+\"\"\" AS csvLine\n",
    "MATCH (au1:Author {scopus_id: csvLine.au1}), \n",
    "(au2:Author {scopus_id: csvLine.au2})\n",
    "CREATE (au1)-[r:CO_AUTHORED{collab_strength:csvLine.collab_strength}]->(au2)\n",
    "RETURN count(r)\n",
    "\"\"\"\n",
    "graph.run(query)"
   ]
  },
  {
   "cell_type": "markdown",
   "id": "3e64e820",
   "metadata": {},
   "source": [
    "---------------------------------------------------------------------------------------"
   ]
  },
  {
   "cell_type": "markdown",
   "id": "45ab7b13",
   "metadata": {},
   "source": [
    "---------------------------------------------------------------------------------------"
   ]
  },
  {
   "cell_type": "code",
   "execution_count": null,
   "id": "e76c2f77",
   "metadata": {},
   "outputs": [],
   "source": [
    "#Timer End\n",
    "timerEnd = time.time()"
   ]
  },
  {
   "cell_type": "markdown",
   "id": "affb0ca7",
   "metadata": {},
   "source": [
    "### Tiempo de ejecución"
   ]
  },
  {
   "cell_type": "code",
   "execution_count": null,
   "id": "7b07a272",
   "metadata": {},
   "outputs": [],
   "source": [
    "print('Fecha de inicio:', time.ctime(timerStart)) \n",
    "print('Fecha de fin:', time.ctime(timerEnd)) \n",
    "print('Tiempo total de ejecución:', timerEnd-timerStart, 'segundos.') "
   ]
  },
  {
   "cell_type": "code",
   "execution_count": null,
   "id": "69f44239",
   "metadata": {},
   "outputs": [],
   "source": []
  },
  {
   "cell_type": "code",
   "execution_count": null,
   "id": "f702b10c",
   "metadata": {},
   "outputs": [],
   "source": []
  }
 ],
 "metadata": {
  "kernelspec": {
   "display_name": "Python 3 (ipykernel)",
   "language": "python",
   "name": "python3"
  },
  "language_info": {
   "codemirror_mode": {
    "name": "ipython",
    "version": 3
   },
   "file_extension": ".py",
   "mimetype": "text/x-python",
   "name": "python",
   "nbconvert_exporter": "python",
   "pygments_lexer": "ipython3",
   "version": "3.9.7"
  }
 },
 "nbformat": 4,
 "nbformat_minor": 5
}
