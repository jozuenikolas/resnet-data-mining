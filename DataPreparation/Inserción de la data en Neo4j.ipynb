{
 "cells": [
  {
   "cell_type": "markdown",
   "id": "dcd718ef",
   "metadata": {},
   "source": [
    "<h1 style=\"text-align:center;\"><strong>Inserción de la data en Neo4j<strong></h1>"
   ]
  },
  {
   "cell_type": "markdown",
   "id": "0b28ae39",
   "metadata": {},
   "source": [
    "### Importar librerías"
   ]
  },
  {
   "cell_type": "code",
   "execution_count": 42,
   "id": "791c77f2",
   "metadata": {},
   "outputs": [],
   "source": [
    "from py2neo import Graph"
   ]
  },
  {
   "cell_type": "markdown",
   "id": "dd71e513",
   "metadata": {},
   "source": [
    "### Definir las rutas de los archivos que contienen la data"
   ]
  },
  {
   "cell_type": "code",
   "execution_count": 43,
   "id": "225d8873",
   "metadata": {},
   "outputs": [],
   "source": [
    "base_path = \"file:///D:/EPN/Tesis/API-Elsevier/src/data/completo/30-06-2021/\""
   ]
  },
  {
   "cell_type": "code",
   "execution_count": 44,
   "id": "686c5e1c",
   "metadata": {},
   "outputs": [
    {
     "name": "stdout",
     "output_type": "stream",
     "text": [
      "file:///D:/EPN/Tesis/API-Elsevier/src/data/completo/30-06-2021/affiliations.csv\n"
     ]
    }
   ],
   "source": [
    "affiliations_path = base_path+\"affiliations.csv\"\n",
    "print(affiliations_path)"
   ]
  },
  {
   "cell_type": "code",
   "execution_count": 45,
   "id": "9442f882",
   "metadata": {},
   "outputs": [
    {
     "name": "stdout",
     "output_type": "stream",
     "text": [
      "file:///D:/EPN/Tesis/API-Elsevier/src/data/completo/30-06-2021/articles.csv\n"
     ]
    }
   ],
   "source": [
    "articles_path = base_path+\"articles.csv\"\n",
    "print(articles_path)"
   ]
  },
  {
   "cell_type": "code",
   "execution_count": 46,
   "id": "f8bd6368",
   "metadata": {},
   "outputs": [
    {
     "name": "stdout",
     "output_type": "stream",
     "text": [
      "file:///D:/EPN/Tesis/API-Elsevier/src/data/completo/30-06-2021/authors.csv\n"
     ]
    }
   ],
   "source": [
    "authors_path = base_path+\"authors.csv\"\n",
    "print(authors_path)"
   ]
  },
  {
   "cell_type": "code",
   "execution_count": 47,
   "id": "f308c552",
   "metadata": {},
   "outputs": [
    {
     "name": "stdout",
     "output_type": "stream",
     "text": [
      "file:///D:/EPN/Tesis/API-Elsevier/src/data/completo/30-06-2021/author_keywords.csv\n"
     ]
    }
   ],
   "source": [
    "author_keywords_path = base_path+\"author_keywords.csv\"\n",
    "print(author_keywords_path)"
   ]
  },
  {
   "cell_type": "code",
   "execution_count": 48,
   "id": "038d4ce9",
   "metadata": {},
   "outputs": [
    {
     "name": "stdout",
     "output_type": "stream",
     "text": [
      "file:///D:/EPN/Tesis/API-Elsevier/src/data/completo/30-06-2021/articles_affiliations.csv\n"
     ]
    }
   ],
   "source": [
    "articles_affiliations_path = base_path+\"articles_affiliations.csv\"\n",
    "print(articles_affiliations_path)"
   ]
  },
  {
   "cell_type": "code",
   "execution_count": 49,
   "id": "9b4ddc7c",
   "metadata": {},
   "outputs": [
    {
     "name": "stdout",
     "output_type": "stream",
     "text": [
      "file:///D:/EPN/Tesis/API-Elsevier/src/data/completo/30-06-2021/articles_authors.csv\n"
     ]
    }
   ],
   "source": [
    "articles_authors_path = base_path+\"articles_authors.csv\"\n",
    "print(articles_authors_path)"
   ]
  },
  {
   "cell_type": "code",
   "execution_count": 50,
   "id": "d82870e5",
   "metadata": {},
   "outputs": [
    {
     "name": "stdout",
     "output_type": "stream",
     "text": [
      "file:///D:/EPN/Tesis/API-Elsevier/src/data/completo/30-06-2021/authors_affiliations.csv\n"
     ]
    }
   ],
   "source": [
    "authors_affiliations_path = base_path+\"authors_affiliations.csv\"\n",
    "print(authors_affiliations_path)"
   ]
  },
  {
   "cell_type": "code",
   "execution_count": 51,
   "id": "412fcd42",
   "metadata": {},
   "outputs": [
    {
     "name": "stdout",
     "output_type": "stream",
     "text": [
      "file:///D:/EPN/Tesis/API-Elsevier/src/data/completo/30-06-2021/articles_author_keywords.csv\n"
     ]
    }
   ],
   "source": [
    "articles_author_keywords_path = base_path+\"articles_author_keywords.csv\"\n",
    "print(articles_author_keywords_path)"
   ]
  },
  {
   "cell_type": "markdown",
   "id": "0193e622",
   "metadata": {},
   "source": [
    "### Configurar la conexión a la base de datos de Neo4j"
   ]
  },
  {
   "cell_type": "code",
   "execution_count": 52,
   "id": "b717309a",
   "metadata": {},
   "outputs": [],
   "source": [
    "graph = Graph(\"bolt://localhost:7687\", auth=(\"neo4j\", \"narias\"))"
   ]
  },
  {
   "cell_type": "markdown",
   "id": "806a03d3",
   "metadata": {},
   "source": [
    "### Eliminar toda la data de la base de datos de Neo4j"
   ]
  },
  {
   "cell_type": "code",
   "execution_count": 53,
   "id": "46632cb6",
   "metadata": {},
   "outputs": [
    {
     "data": {
      "text/html": [
       "(No data)"
      ],
      "text/plain": [
       "(No data)"
      ]
     },
     "execution_count": 53,
     "metadata": {},
     "output_type": "execute_result"
    }
   ],
   "source": [
    "graph.run(\"MATCH (n) DETACH DELETE n\")"
   ]
  },
  {
   "cell_type": "markdown",
   "id": "436d3f74",
   "metadata": {},
   "source": [
    "### Eliminar los constraints a la base de datos"
   ]
  },
  {
   "cell_type": "code",
   "execution_count": 54,
   "id": "339b3c9e",
   "metadata": {},
   "outputs": [
    {
     "data": {
      "text/html": [
       "(No data)"
      ],
      "text/plain": [
       "(No data)"
      ]
     },
     "execution_count": 54,
     "metadata": {},
     "output_type": "execute_result"
    }
   ],
   "source": [
    "#Elimina los constraints si existen\n",
    "graph.run(\"DROP CONSTRAINT affiliationScopusIdConstraint IF EXISTS\")\n",
    "graph.run(\"DROP CONSTRAINT articleScopusIdConstraint IF EXISTS\")\n",
    "graph.run(\"DROP CONSTRAINT authorScopusIdConstraint IF EXISTS\")\n",
    "graph.run(\"DROP CONSTRAINT authorKeywordsIdConstraint IF EXISTS\")"
   ]
  },
  {
   "cell_type": "markdown",
   "id": "81227adf",
   "metadata": {},
   "source": [
    "### Crear los constraints"
   ]
  },
  {
   "cell_type": "code",
   "execution_count": 55,
   "id": "06f8d185",
   "metadata": {},
   "outputs": [
    {
     "data": {
      "text/html": [
       "(No data)"
      ],
      "text/plain": [
       "(No data)"
      ]
     },
     "execution_count": 55,
     "metadata": {},
     "output_type": "execute_result"
    }
   ],
   "source": [
    "#Constraint del id de las afiliaciones\n",
    "graph.run(\"CREATE CONSTRAINT affiliationScopusIdConstraint ON (af:Affiliation) ASSERT af.scopus_id IS UNIQUE\")"
   ]
  },
  {
   "cell_type": "code",
   "execution_count": 56,
   "id": "c11a3c42",
   "metadata": {},
   "outputs": [
    {
     "data": {
      "text/html": [
       "(No data)"
      ],
      "text/plain": [
       "(No data)"
      ]
     },
     "execution_count": 56,
     "metadata": {},
     "output_type": "execute_result"
    }
   ],
   "source": [
    "#Constraint del id de los articulos\n",
    "graph.run(\"CREATE CONSTRAINT articleScopusIdConstraint ON (ar:Article) ASSERT ar.scopus_id IS UNIQUE\")"
   ]
  },
  {
   "cell_type": "code",
   "execution_count": 57,
   "id": "01af79a5",
   "metadata": {},
   "outputs": [
    {
     "data": {
      "text/html": [
       "(No data)"
      ],
      "text/plain": [
       "(No data)"
      ]
     },
     "execution_count": 57,
     "metadata": {},
     "output_type": "execute_result"
    }
   ],
   "source": [
    "#Constraint del id de los autores\n",
    "graph.run(\"CREATE CONSTRAINT authorScopusIdConstraint ON (au:Author) ASSERT au.scopus_id IS UNIQUE\")"
   ]
  },
  {
   "cell_type": "code",
   "execution_count": 58,
   "id": "d60ab52d",
   "metadata": {},
   "outputs": [
    {
     "data": {
      "text/html": [
       "(No data)"
      ],
      "text/plain": [
       "(No data)"
      ]
     },
     "execution_count": 58,
     "metadata": {},
     "output_type": "execute_result"
    }
   ],
   "source": [
    "#Constraint del id de los autores\n",
    "graph.run(\"CREATE CONSTRAINT authorKeywordsIdConstraint ON (ak:AuthorKeyword) ASSERT ak.id IS UNIQUE\")"
   ]
  },
  {
   "cell_type": "markdown",
   "id": "204e5f37",
   "metadata": {},
   "source": [
    "### Insersión de la data en Neo4j"
   ]
  },
  {
   "cell_type": "code",
   "execution_count": 59,
   "id": "774874b9",
   "metadata": {},
   "outputs": [
    {
     "data": {
      "text/html": [
       "(No data)"
      ],
      "text/plain": [
       "(No data)"
      ]
     },
     "execution_count": 59,
     "metadata": {},
     "output_type": "execute_result"
    }
   ],
   "source": [
    "#affiliations\n",
    "query = \"\"\"\n",
    "LOAD CSV WITH HEADERS \n",
    "FROM \"\"\"+'\"'+affiliations_path+'\"'+\"\"\" AS csvLine\n",
    "CREATE (af:Affiliation {scopus_id: csvLine.identifier, \n",
    "affiliation_name: csvLine.affiliation_name,\n",
    "document_count: csvLine.document_count,\n",
    "city: csvLine.city,\n",
    "country: csvLine.country\n",
    "})\n",
    "\"\"\"\n",
    "graph.run(query)"
   ]
  },
  {
   "cell_type": "code",
   "execution_count": 60,
   "id": "86ef52b6",
   "metadata": {},
   "outputs": [
    {
     "data": {
      "text/html": [
       "(No data)"
      ],
      "text/plain": [
       "(No data)"
      ]
     },
     "execution_count": 60,
     "metadata": {},
     "output_type": "execute_result"
    }
   ],
   "source": [
    "#articles\n",
    "query = \"\"\"\n",
    "LOAD CSV WITH HEADERS \n",
    "FROM \"\"\"+'\"'+articles_path+'\"'+\"\"\" AS csvLine\n",
    "CREATE (ar:Article {scopus_id: csvLine.identifier, \n",
    "affiliation_name: csvLine.affiliation_name,\n",
    "title: csvLine.title,\n",
    "publication_date: csvLine.publication_date,\n",
    "doi: csvLine.doi,\n",
    "abstract: csvLine.abstract,\n",
    "author_count: csvLine.author_count,\n",
    "affiliation_count: csvLine.affiliation_count\n",
    "})\n",
    "\"\"\"\n",
    "graph.run(query)"
   ]
  },
  {
   "cell_type": "code",
   "execution_count": 61,
   "id": "58cb4ded",
   "metadata": {},
   "outputs": [
    {
     "data": {
      "text/html": [
       "(No data)"
      ],
      "text/plain": [
       "(No data)"
      ]
     },
     "execution_count": 61,
     "metadata": {},
     "output_type": "execute_result"
    }
   ],
   "source": [
    "#authors\n",
    "query = \"\"\"\n",
    "LOAD CSV WITH HEADERS \n",
    "FROM \"\"\"+'\"'+authors_path+'\"'+\"\"\" AS csvLine\n",
    "CREATE (au:Author {scopus_id: csvLine.identifier, \n",
    "eid: csvLine.eid,\n",
    "orcid: csvLine.orcid,\n",
    "document_count: csvLine.document_count,\n",
    "first_name: csvLine.first_name,\n",
    "last_name: csvLine.last_name\n",
    "})\n",
    "\"\"\"\n",
    "graph.run(query)"
   ]
  },
  {
   "cell_type": "code",
   "execution_count": 62,
   "id": "9082893d",
   "metadata": {},
   "outputs": [
    {
     "data": {
      "text/html": [
       "(No data)"
      ],
      "text/plain": [
       "(No data)"
      ]
     },
     "execution_count": 62,
     "metadata": {},
     "output_type": "execute_result"
    }
   ],
   "source": [
    "#author_keywords\n",
    "query = \"\"\"\n",
    "LOAD CSV WITH HEADERS \n",
    "FROM \"\"\"+'\"'+author_keywords_path+'\"'+\"\"\" AS csvLine\n",
    "CREATE (ak:AuthorKeyword {id: csvLine.identifier,\n",
    "name: csvLine.name\n",
    "})\n",
    "\"\"\"\n",
    "graph.run(query)"
   ]
  },
  {
   "cell_type": "code",
   "execution_count": 63,
   "id": "4165aca0",
   "metadata": {},
   "outputs": [
    {
     "data": {
      "text/html": [
       "(No data)"
      ],
      "text/plain": [
       "(No data)"
      ]
     },
     "execution_count": 63,
     "metadata": {},
     "output_type": "execute_result"
    }
   ],
   "source": [
    "#articles_affiliations\n",
    "query = \"\"\"\n",
    "USING PERIODIC COMMIT 500\n",
    "LOAD CSV WITH HEADERS \n",
    "FROM \"\"\"+'\"'+articles_affiliations_path+'\"'+\"\"\" AS csvLine\n",
    "MATCH (ar:Article {scopus_id: csvLine.article_id}), \n",
    "(af:Affiliation {scopus_id: csvLine.affiliation_id})\n",
    "CREATE (ar)-[:BELONG_TO]->(af)\n",
    "\"\"\"\n",
    "graph.run(query)"
   ]
  },
  {
   "cell_type": "code",
   "execution_count": 64,
   "id": "c54cf655",
   "metadata": {},
   "outputs": [
    {
     "data": {
      "text/html": [
       "(No data)"
      ],
      "text/plain": [
       "(No data)"
      ]
     },
     "execution_count": 64,
     "metadata": {},
     "output_type": "execute_result"
    }
   ],
   "source": [
    "#articles_authors\n",
    "query = \"\"\"\n",
    "USING PERIODIC COMMIT 500\n",
    "LOAD CSV WITH HEADERS \n",
    "FROM \"\"\"+'\"'+articles_authors_path+'\"'+\"\"\" AS csvLine\n",
    "MATCH (au:Author {scopus_id: csvLine.author_id}), \n",
    "(ar:Article {scopus_id: csvLine.article_id})\n",
    "CREATE (ar)-[:WRITTEN_BY]->(au)\n",
    "\"\"\"\n",
    "graph.run(query)"
   ]
  },
  {
   "cell_type": "code",
   "execution_count": 65,
   "id": "0707a495",
   "metadata": {},
   "outputs": [
    {
     "data": {
      "text/html": [
       "(No data)"
      ],
      "text/plain": [
       "(No data)"
      ]
     },
     "execution_count": 65,
     "metadata": {},
     "output_type": "execute_result"
    }
   ],
   "source": [
    "#authors_affiliations\n",
    "query = \"\"\"\n",
    "USING PERIODIC COMMIT 500\n",
    "LOAD CSV WITH HEADERS \n",
    "FROM \"\"\"+'\"'+authors_affiliations_path+'\"'+\"\"\" AS csvLine\n",
    "MATCH (au:Author {scopus_id: csvLine.author_id}), \n",
    "(af:Affiliation {scopus_id: csvLine.affiliation_id})\n",
    "CREATE (au)-[:WORKED_AT]->(af)\n",
    "\"\"\"\n",
    "graph.run(query)"
   ]
  },
  {
   "cell_type": "code",
   "execution_count": 66,
   "id": "ee2cc352",
   "metadata": {},
   "outputs": [
    {
     "data": {
      "text/html": [
       "(No data)"
      ],
      "text/plain": [
       "(No data)"
      ]
     },
     "execution_count": 66,
     "metadata": {},
     "output_type": "execute_result"
    }
   ],
   "source": [
    "#articles_author_keywords\n",
    "query = \"\"\"\n",
    "USING PERIODIC COMMIT 500\n",
    "LOAD CSV WITH HEADERS \n",
    "FROM \"\"\"+'\"'+articles_author_keywords_path+'\"'+\"\"\" AS csvLine\n",
    "MATCH (ar:Article {scopus_id: csvLine.article_id}), \n",
    "(ak:AuthorKeyword {id: csvLine.author_keyword_id})\n",
    "CREATE (ak)-[:BELONG_TO]->(ar)\n",
    "\"\"\"\n",
    "graph.run(query)"
   ]
  },
  {
   "cell_type": "code",
   "execution_count": null,
   "id": "e76c2f77",
   "metadata": {},
   "outputs": [],
   "source": []
  },
  {
   "cell_type": "code",
   "execution_count": null,
   "id": "94b86aac",
   "metadata": {},
   "outputs": [],
   "source": []
  }
 ],
 "metadata": {
  "kernelspec": {
   "display_name": "Python 3",
   "language": "python",
   "name": "python3"
  },
  "language_info": {
   "codemirror_mode": {
    "name": "ipython",
    "version": 3
   },
   "file_extension": ".py",
   "mimetype": "text/x-python",
   "name": "python",
   "nbconvert_exporter": "python",
   "pygments_lexer": "ipython3",
   "version": "3.8.8"
  }
 },
 "nbformat": 4,
 "nbformat_minor": 5
}
