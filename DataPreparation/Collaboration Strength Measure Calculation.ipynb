{
 "cells": [
  {
   "cell_type": "markdown",
   "id": "4273c7c3",
   "metadata": {},
   "source": [
    "<h1 style=\"text-align:center;\"><strong>Collaboration Strength Measure Calculation<strong></h1>"
   ]
  },
  {
   "cell_type": "markdown",
   "id": "529d068e",
   "metadata": {},
   "source": [
    "### Importar librerías"
   ]
  },
  {
   "cell_type": "code",
   "execution_count": 1,
   "id": "d39c19f7",
   "metadata": {},
   "outputs": [],
   "source": [
    "from py2neo import Graph\n",
    "import time\n",
    "import pandas as pd"
   ]
  },
  {
   "cell_type": "markdown",
   "id": "09eabac6",
   "metadata": {},
   "source": [
    "### Configurar la conexión a la base de datos de Neo4j"
   ]
  },
  {
   "cell_type": "code",
   "execution_count": 2,
   "id": "be7ff630",
   "metadata": {},
   "outputs": [],
   "source": [
    "graph = Graph(\"bolt://localhost:7687\", auth=(\"neo4j\", \"narias\"))"
   ]
  },
  {
   "cell_type": "markdown",
   "id": "d79c9dae",
   "metadata": {},
   "source": [
    "### Obtener los autores que se relacionan a través de artículos y su número de autores"
   ]
  },
  {
   "cell_type": "code",
   "execution_count": 3,
   "id": "51d236c1",
   "metadata": {},
   "outputs": [],
   "source": [
    "query = \"\"\"\n",
    "match (au1:Author)-[:WROTE]-(ar:Article)-[:WROTE]-(au2:Author)\n",
    "WHERE id(au1) < id(au2)\n",
    "return au1.scopus_id, ar.author_count, au2.scopus_id\n",
    "\"\"\"\n",
    "res = graph.run(query).to_table()"
   ]
  },
  {
   "cell_type": "markdown",
   "id": "012ac10c",
   "metadata": {},
   "source": [
    "### Cargar la data en un dataframe"
   ]
  },
  {
   "cell_type": "code",
   "execution_count": 6,
   "id": "7a4eafe3",
   "metadata": {},
   "outputs": [],
   "source": [
    "data = res\n",
    "df = pd.DataFrame(data, columns =['au1', 'au_count', 'au2'])"
   ]
  },
  {
   "cell_type": "code",
   "execution_count": 7,
   "id": "7a2f198e",
   "metadata": {},
   "outputs": [
    {
     "data": {
      "text/html": [
       "<div>\n",
       "<style scoped>\n",
       "    .dataframe tbody tr th:only-of-type {\n",
       "        vertical-align: middle;\n",
       "    }\n",
       "\n",
       "    .dataframe tbody tr th {\n",
       "        vertical-align: top;\n",
       "    }\n",
       "\n",
       "    .dataframe thead th {\n",
       "        text-align: right;\n",
       "    }\n",
       "</style>\n",
       "<table border=\"1\" class=\"dataframe\">\n",
       "  <thead>\n",
       "    <tr style=\"text-align: right;\">\n",
       "      <th></th>\n",
       "      <th>au1</th>\n",
       "      <th>au_count</th>\n",
       "      <th>au2</th>\n",
       "    </tr>\n",
       "  </thead>\n",
       "  <tbody>\n",
       "    <tr>\n",
       "      <th>0</th>\n",
       "      <td>55981620200</td>\n",
       "      <td>6</td>\n",
       "      <td>57216628614</td>\n",
       "    </tr>\n",
       "    <tr>\n",
       "      <th>1</th>\n",
       "      <td>51964445400</td>\n",
       "      <td>7</td>\n",
       "      <td>57221733500</td>\n",
       "    </tr>\n",
       "    <tr>\n",
       "      <th>2</th>\n",
       "      <td>57194568539</td>\n",
       "      <td>5</td>\n",
       "      <td>8905349600</td>\n",
       "    </tr>\n",
       "    <tr>\n",
       "      <th>3</th>\n",
       "      <td>57194568539</td>\n",
       "      <td>6</td>\n",
       "      <td>8905349600</td>\n",
       "    </tr>\n",
       "    <tr>\n",
       "      <th>4</th>\n",
       "      <td>57202822939</td>\n",
       "      <td>85</td>\n",
       "      <td>57202822886</td>\n",
       "    </tr>\n",
       "    <tr>\n",
       "      <th>...</th>\n",
       "      <td>...</td>\n",
       "      <td>...</td>\n",
       "      <td>...</td>\n",
       "    </tr>\n",
       "    <tr>\n",
       "      <th>162228</th>\n",
       "      <td>57189324222</td>\n",
       "      <td>6</td>\n",
       "      <td>57192640335</td>\n",
       "    </tr>\n",
       "    <tr>\n",
       "      <th>162229</th>\n",
       "      <td>57192646879</td>\n",
       "      <td>6</td>\n",
       "      <td>57192640335</td>\n",
       "    </tr>\n",
       "    <tr>\n",
       "      <th>162230</th>\n",
       "      <td>57192644219</td>\n",
       "      <td>6</td>\n",
       "      <td>57192640335</td>\n",
       "    </tr>\n",
       "    <tr>\n",
       "      <th>162231</th>\n",
       "      <td>56565030800</td>\n",
       "      <td>3</td>\n",
       "      <td>57192640335</td>\n",
       "    </tr>\n",
       "    <tr>\n",
       "      <th>162232</th>\n",
       "      <td>57190756801</td>\n",
       "      <td>3</td>\n",
       "      <td>57192640335</td>\n",
       "    </tr>\n",
       "  </tbody>\n",
       "</table>\n",
       "<p>162233 rows × 3 columns</p>\n",
       "</div>"
      ],
      "text/plain": [
       "                au1 au_count          au2\n",
       "0       55981620200        6  57216628614\n",
       "1       51964445400        7  57221733500\n",
       "2       57194568539        5   8905349600\n",
       "3       57194568539        6   8905349600\n",
       "4       57202822939       85  57202822886\n",
       "...             ...      ...          ...\n",
       "162228  57189324222        6  57192640335\n",
       "162229  57192646879        6  57192640335\n",
       "162230  57192644219        6  57192640335\n",
       "162231  56565030800        3  57192640335\n",
       "162232  57190756801        3  57192640335\n",
       "\n",
       "[162233 rows x 3 columns]"
      ]
     },
     "execution_count": 7,
     "metadata": {},
     "output_type": "execute_result"
    }
   ],
   "source": [
    "df"
   ]
  },
  {
   "cell_type": "markdown",
   "id": "ce06a455",
   "metadata": {},
   "source": [
    "### Obtener la fuerza de colaboración entre autores"
   ]
  },
  {
   "cell_type": "code",
   "execution_count": 8,
   "id": "0045bb67",
   "metadata": {},
   "outputs": [],
   "source": [
    "df['collab_strength'] = df['au_count'].apply(lambda x: 1/(int(x)-1))"
   ]
  },
  {
   "cell_type": "code",
   "execution_count": 9,
   "id": "18f6a021",
   "metadata": {},
   "outputs": [
    {
     "data": {
      "text/html": [
       "<div>\n",
       "<style scoped>\n",
       "    .dataframe tbody tr th:only-of-type {\n",
       "        vertical-align: middle;\n",
       "    }\n",
       "\n",
       "    .dataframe tbody tr th {\n",
       "        vertical-align: top;\n",
       "    }\n",
       "\n",
       "    .dataframe thead th {\n",
       "        text-align: right;\n",
       "    }\n",
       "</style>\n",
       "<table border=\"1\" class=\"dataframe\">\n",
       "  <thead>\n",
       "    <tr style=\"text-align: right;\">\n",
       "      <th></th>\n",
       "      <th>au1</th>\n",
       "      <th>au_count</th>\n",
       "      <th>au2</th>\n",
       "      <th>collab_strength</th>\n",
       "    </tr>\n",
       "  </thead>\n",
       "  <tbody>\n",
       "    <tr>\n",
       "      <th>0</th>\n",
       "      <td>55981620200</td>\n",
       "      <td>6</td>\n",
       "      <td>57216628614</td>\n",
       "      <td>0.200000</td>\n",
       "    </tr>\n",
       "    <tr>\n",
       "      <th>1</th>\n",
       "      <td>51964445400</td>\n",
       "      <td>7</td>\n",
       "      <td>57221733500</td>\n",
       "      <td>0.166667</td>\n",
       "    </tr>\n",
       "    <tr>\n",
       "      <th>2</th>\n",
       "      <td>57194568539</td>\n",
       "      <td>5</td>\n",
       "      <td>8905349600</td>\n",
       "      <td>0.250000</td>\n",
       "    </tr>\n",
       "    <tr>\n",
       "      <th>3</th>\n",
       "      <td>57194568539</td>\n",
       "      <td>6</td>\n",
       "      <td>8905349600</td>\n",
       "      <td>0.200000</td>\n",
       "    </tr>\n",
       "    <tr>\n",
       "      <th>4</th>\n",
       "      <td>57202822939</td>\n",
       "      <td>85</td>\n",
       "      <td>57202822886</td>\n",
       "      <td>0.011905</td>\n",
       "    </tr>\n",
       "    <tr>\n",
       "      <th>...</th>\n",
       "      <td>...</td>\n",
       "      <td>...</td>\n",
       "      <td>...</td>\n",
       "      <td>...</td>\n",
       "    </tr>\n",
       "    <tr>\n",
       "      <th>162228</th>\n",
       "      <td>57189324222</td>\n",
       "      <td>6</td>\n",
       "      <td>57192640335</td>\n",
       "      <td>0.200000</td>\n",
       "    </tr>\n",
       "    <tr>\n",
       "      <th>162229</th>\n",
       "      <td>57192646879</td>\n",
       "      <td>6</td>\n",
       "      <td>57192640335</td>\n",
       "      <td>0.200000</td>\n",
       "    </tr>\n",
       "    <tr>\n",
       "      <th>162230</th>\n",
       "      <td>57192644219</td>\n",
       "      <td>6</td>\n",
       "      <td>57192640335</td>\n",
       "      <td>0.200000</td>\n",
       "    </tr>\n",
       "    <tr>\n",
       "      <th>162231</th>\n",
       "      <td>56565030800</td>\n",
       "      <td>3</td>\n",
       "      <td>57192640335</td>\n",
       "      <td>0.500000</td>\n",
       "    </tr>\n",
       "    <tr>\n",
       "      <th>162232</th>\n",
       "      <td>57190756801</td>\n",
       "      <td>3</td>\n",
       "      <td>57192640335</td>\n",
       "      <td>0.500000</td>\n",
       "    </tr>\n",
       "  </tbody>\n",
       "</table>\n",
       "<p>162233 rows × 4 columns</p>\n",
       "</div>"
      ],
      "text/plain": [
       "                au1 au_count          au2  collab_strength\n",
       "0       55981620200        6  57216628614         0.200000\n",
       "1       51964445400        7  57221733500         0.166667\n",
       "2       57194568539        5   8905349600         0.250000\n",
       "3       57194568539        6   8905349600         0.200000\n",
       "4       57202822939       85  57202822886         0.011905\n",
       "...             ...      ...          ...              ...\n",
       "162228  57189324222        6  57192640335         0.200000\n",
       "162229  57192646879        6  57192640335         0.200000\n",
       "162230  57192644219        6  57192640335         0.200000\n",
       "162231  56565030800        3  57192640335         0.500000\n",
       "162232  57190756801        3  57192640335         0.500000\n",
       "\n",
       "[162233 rows x 4 columns]"
      ]
     },
     "execution_count": 9,
     "metadata": {},
     "output_type": "execute_result"
    }
   ],
   "source": [
    "df"
   ]
  },
  {
   "cell_type": "markdown",
   "id": "3aac577d",
   "metadata": {},
   "source": [
    "### Obtener la suma de la fuerza de colaboración entre autores"
   ]
  },
  {
   "cell_type": "code",
   "execution_count": 10,
   "id": "99e2dad7",
   "metadata": {},
   "outputs": [],
   "source": [
    "df1 = df.groupby(['au1','au2']).agg({'collab_strength': 'sum'}).reset_index()"
   ]
  },
  {
   "cell_type": "code",
   "execution_count": 11,
   "id": "405a3632",
   "metadata": {
    "scrolled": true
   },
   "outputs": [
    {
     "data": {
      "text/html": [
       "<div>\n",
       "<style scoped>\n",
       "    .dataframe tbody tr th:only-of-type {\n",
       "        vertical-align: middle;\n",
       "    }\n",
       "\n",
       "    .dataframe tbody tr th {\n",
       "        vertical-align: top;\n",
       "    }\n",
       "\n",
       "    .dataframe thead th {\n",
       "        text-align: right;\n",
       "    }\n",
       "</style>\n",
       "<table border=\"1\" class=\"dataframe\">\n",
       "  <thead>\n",
       "    <tr style=\"text-align: right;\">\n",
       "      <th></th>\n",
       "      <th>au1</th>\n",
       "      <th>au2</th>\n",
       "      <th>collab_strength</th>\n",
       "    </tr>\n",
       "  </thead>\n",
       "  <tbody>\n",
       "    <tr>\n",
       "      <th>0</th>\n",
       "      <td>10040712400</td>\n",
       "      <td>15842091200</td>\n",
       "      <td>0.750000</td>\n",
       "    </tr>\n",
       "    <tr>\n",
       "      <th>1</th>\n",
       "      <td>10040712400</td>\n",
       "      <td>18133417900</td>\n",
       "      <td>0.200000</td>\n",
       "    </tr>\n",
       "    <tr>\n",
       "      <th>2</th>\n",
       "      <td>10040712400</td>\n",
       "      <td>25522363800</td>\n",
       "      <td>0.250000</td>\n",
       "    </tr>\n",
       "    <tr>\n",
       "      <th>3</th>\n",
       "      <td>10040712400</td>\n",
       "      <td>35087917700</td>\n",
       "      <td>0.666667</td>\n",
       "    </tr>\n",
       "    <tr>\n",
       "      <th>4</th>\n",
       "      <td>10040712400</td>\n",
       "      <td>35298881500</td>\n",
       "      <td>0.666667</td>\n",
       "    </tr>\n",
       "    <tr>\n",
       "      <th>...</th>\n",
       "      <td>...</td>\n",
       "      <td>...</td>\n",
       "      <td>...</td>\n",
       "    </tr>\n",
       "    <tr>\n",
       "      <th>118294</th>\n",
       "      <td>9942669300</td>\n",
       "      <td>57210120494</td>\n",
       "      <td>0.500000</td>\n",
       "    </tr>\n",
       "    <tr>\n",
       "      <th>118295</th>\n",
       "      <td>9942669300</td>\n",
       "      <td>57215195500</td>\n",
       "      <td>1.333333</td>\n",
       "    </tr>\n",
       "    <tr>\n",
       "      <th>118296</th>\n",
       "      <td>9942669300</td>\n",
       "      <td>57222231973</td>\n",
       "      <td>0.500000</td>\n",
       "    </tr>\n",
       "    <tr>\n",
       "      <th>118297</th>\n",
       "      <td>9942669300</td>\n",
       "      <td>57225265478</td>\n",
       "      <td>0.500000</td>\n",
       "    </tr>\n",
       "    <tr>\n",
       "      <th>118298</th>\n",
       "      <td>9942669300</td>\n",
       "      <td>57444542400</td>\n",
       "      <td>1.000000</td>\n",
       "    </tr>\n",
       "  </tbody>\n",
       "</table>\n",
       "<p>118299 rows × 3 columns</p>\n",
       "</div>"
      ],
      "text/plain": [
       "                au1          au2  collab_strength\n",
       "0       10040712400  15842091200         0.750000\n",
       "1       10040712400  18133417900         0.200000\n",
       "2       10040712400  25522363800         0.250000\n",
       "3       10040712400  35087917700         0.666667\n",
       "4       10040712400  35298881500         0.666667\n",
       "...             ...          ...              ...\n",
       "118294   9942669300  57210120494         0.500000\n",
       "118295   9942669300  57215195500         1.333333\n",
       "118296   9942669300  57222231973         0.500000\n",
       "118297   9942669300  57225265478         0.500000\n",
       "118298   9942669300  57444542400         1.000000\n",
       "\n",
       "[118299 rows x 3 columns]"
      ]
     },
     "execution_count": 11,
     "metadata": {},
     "output_type": "execute_result"
    }
   ],
   "source": [
    "df1"
   ]
  },
  {
   "cell_type": "markdown",
   "id": "7736b4b2",
   "metadata": {},
   "source": [
    "#### Ejemplo de fuerza de colaboración de la autora Lorena Recalde y sus coautores"
   ]
  },
  {
   "cell_type": "code",
   "execution_count": 12,
   "id": "23ec164c",
   "metadata": {},
   "outputs": [
    {
     "data": {
      "text/html": [
       "<div>\n",
       "<style scoped>\n",
       "    .dataframe tbody tr th:only-of-type {\n",
       "        vertical-align: middle;\n",
       "    }\n",
       "\n",
       "    .dataframe tbody tr th {\n",
       "        vertical-align: top;\n",
       "    }\n",
       "\n",
       "    .dataframe thead th {\n",
       "        text-align: right;\n",
       "    }\n",
       "</style>\n",
       "<table border=\"1\" class=\"dataframe\">\n",
       "  <thead>\n",
       "    <tr style=\"text-align: right;\">\n",
       "      <th></th>\n",
       "      <th>au1</th>\n",
       "      <th>au2</th>\n",
       "      <th>collab_strength</th>\n",
       "    </tr>\n",
       "  </thead>\n",
       "  <tbody>\n",
       "    <tr>\n",
       "      <th>9532</th>\n",
       "      <td>36610928700</td>\n",
       "      <td>57193901649</td>\n",
       "      <td>0.500000</td>\n",
       "    </tr>\n",
       "    <tr>\n",
       "      <th>19964</th>\n",
       "      <td>56209050900</td>\n",
       "      <td>57193901649</td>\n",
       "      <td>1.333333</td>\n",
       "    </tr>\n",
       "    <tr>\n",
       "      <th>21567</th>\n",
       "      <td>56442195300</td>\n",
       "      <td>57193901649</td>\n",
       "      <td>2.166667</td>\n",
       "    </tr>\n",
       "    <tr>\n",
       "      <th>29962</th>\n",
       "      <td>57189242187</td>\n",
       "      <td>57193901649</td>\n",
       "      <td>0.833333</td>\n",
       "    </tr>\n",
       "    <tr>\n",
       "      <th>54283</th>\n",
       "      <td>57202686559</td>\n",
       "      <td>57193901649</td>\n",
       "      <td>0.333333</td>\n",
       "    </tr>\n",
       "    <tr>\n",
       "      <th>54400</th>\n",
       "      <td>57202714657</td>\n",
       "      <td>57193901649</td>\n",
       "      <td>0.333333</td>\n",
       "    </tr>\n",
       "    <tr>\n",
       "      <th>57678</th>\n",
       "      <td>57203185972</td>\n",
       "      <td>57193901649</td>\n",
       "      <td>1.000000</td>\n",
       "    </tr>\n",
       "    <tr>\n",
       "      <th>93672</th>\n",
       "      <td>57222629713</td>\n",
       "      <td>57193901649</td>\n",
       "      <td>0.833333</td>\n",
       "    </tr>\n",
       "    <tr>\n",
       "      <th>100930</th>\n",
       "      <td>57297418300</td>\n",
       "      <td>57193901649</td>\n",
       "      <td>0.500000</td>\n",
       "    </tr>\n",
       "    <tr>\n",
       "      <th>100951</th>\n",
       "      <td>57297831900</td>\n",
       "      <td>57193901649</td>\n",
       "      <td>0.333333</td>\n",
       "    </tr>\n",
       "    <tr>\n",
       "      <th>108307</th>\n",
       "      <td>57760840900</td>\n",
       "      <td>57193901649</td>\n",
       "      <td>0.333333</td>\n",
       "    </tr>\n",
       "  </tbody>\n",
       "</table>\n",
       "</div>"
      ],
      "text/plain": [
       "                au1          au2  collab_strength\n",
       "9532    36610928700  57193901649         0.500000\n",
       "19964   56209050900  57193901649         1.333333\n",
       "21567   56442195300  57193901649         2.166667\n",
       "29962   57189242187  57193901649         0.833333\n",
       "54283   57202686559  57193901649         0.333333\n",
       "54400   57202714657  57193901649         0.333333\n",
       "57678   57203185972  57193901649         1.000000\n",
       "93672   57222629713  57193901649         0.833333\n",
       "100930  57297418300  57193901649         0.500000\n",
       "100951  57297831900  57193901649         0.333333\n",
       "108307  57760840900  57193901649         0.333333"
      ]
     },
     "execution_count": 12,
     "metadata": {},
     "output_type": "execute_result"
    }
   ],
   "source": [
    "df1.loc[df1['au2'] == '57193901649']"
   ]
  },
  {
   "cell_type": "markdown",
   "id": "af21e5c4",
   "metadata": {},
   "source": [
    "###  Definir la ruta del directorio"
   ]
  },
  {
   "cell_type": "code",
   "execution_count": 3,
   "id": "cb960c72",
   "metadata": {},
   "outputs": [],
   "source": [
    "directorio = \"13-07-2022\""
   ]
  },
  {
   "cell_type": "markdown",
   "id": "e02a8634",
   "metadata": {},
   "source": [
    "###  Almacenar la data en Pickle y CSV"
   ]
  },
  {
   "cell_type": "code",
   "execution_count": 14,
   "id": "96814871",
   "metadata": {},
   "outputs": [],
   "source": [
    "df1.to_pickle('data/completo/'+directorio+'/collab_strength.pkl')"
   ]
  },
  {
   "cell_type": "code",
   "execution_count": 15,
   "id": "c47be2ea",
   "metadata": {},
   "outputs": [],
   "source": [
    "df1.to_csv('data/completo/'+directorio+'/collab_strength.csv')"
   ]
  },
  {
   "cell_type": "markdown",
   "id": "f4f8e456",
   "metadata": {},
   "source": [
    "### Definir las rutas de los archivo que contienen la data"
   ]
  },
  {
   "cell_type": "code",
   "execution_count": 3,
   "id": "5b416f5e",
   "metadata": {},
   "outputs": [],
   "source": [
    "base_path = \"file:///T:/Tesis/API-Elsevier/src/data/completo/13-07-2022/\""
   ]
  },
  {
   "cell_type": "code",
   "execution_count": 4,
   "id": "362bcb6d",
   "metadata": {},
   "outputs": [
    {
     "name": "stdout",
     "output_type": "stream",
     "text": [
      "file:///T:/Tesis/API-Elsevier/src/data/completo/13-07-2022/collab_strength.csv\n"
     ]
    }
   ],
   "source": [
    "collab_strengths_path = base_path+\"collab_strength.csv\"\n",
    "print(collab_strengths_path)"
   ]
  },
  {
   "cell_type": "markdown",
   "id": "f005e855",
   "metadata": {},
   "source": [
    "### Cargar la data en Neo4j"
   ]
  },
  {
   "cell_type": "code",
   "execution_count": 5,
   "id": "bb857574",
   "metadata": {},
   "outputs": [
    {
     "data": {
      "text/html": [
       "<table><tr><th>count(r)</th></tr><tr><td style=\"text-align:right\">118299</td></tr></table>"
      ],
      "text/plain": [
       " count(r) \n",
       "----------\n",
       "   118299 "
      ]
     },
     "execution_count": 5,
     "metadata": {},
     "output_type": "execute_result"
    }
   ],
   "source": [
    "#collab_strength\n",
    "query = \"\"\"\n",
    "USING PERIODIC COMMIT 500\n",
    "LOAD CSV WITH HEADERS \n",
    "FROM \"\"\"+'\"'+collab_strengths_path+'\"'+\"\"\" AS csvLine\n",
    "MATCH (au1:Author {scopus_id: csvLine.au1}), \n",
    "(au2:Author {scopus_id: csvLine.au2})\n",
    "CREATE (au1)-[r:CO_AUTHORED{collab_strength:csvLine.collab_strength}]->(au2)\n",
    "RETURN count(r)\n",
    "\"\"\"\n",
    "graph.run(query)"
   ]
  },
  {
   "cell_type": "code",
   "execution_count": null,
   "id": "d6d11f19",
   "metadata": {},
   "outputs": [],
   "source": []
  }
 ],
 "metadata": {
  "kernelspec": {
   "display_name": "Python 3 (ipykernel)",
   "language": "python",
   "name": "python3"
  },
  "language_info": {
   "codemirror_mode": {
    "name": "ipython",
    "version": 3
   },
   "file_extension": ".py",
   "mimetype": "text/x-python",
   "name": "python",
   "nbconvert_exporter": "python",
   "pygments_lexer": "ipython3",
   "version": "3.9.7"
  }
 },
 "nbformat": 4,
 "nbformat_minor": 5
}
