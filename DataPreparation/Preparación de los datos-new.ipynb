{
 "cells": [
  {
   "cell_type": "markdown",
   "metadata": {},
   "source": [
    "<h1 style=\"text-align:center;\"><strong>Preparación de los datos<strong></h1>"
   ]
  },
  {
   "cell_type": "markdown",
   "metadata": {},
   "source": [
    "<h3><strong>Parte 1: Importar las bibliotecas y configurar la ruta</strong></h3>"
   ]
  },
  {
   "cell_type": "markdown",
   "metadata": {},
   "source": [
    "<h4 style=\"text-align:justify;\">Paso 1: Importar librerías</h4>"
   ]
  },
  {
   "cell_type": "code",
   "execution_count": 1,
   "metadata": {},
   "outputs": [],
   "source": [
    "import json\n",
    "import os\n",
    "import time\n",
    "import mysql.connector\n",
    "import pandas as pd\n",
    "import numpy as np\n",
    "from ScopusModule import Utils\n",
    "from sqlalchemy import create_engine\n",
    "from urllib.parse import quote_plus as url_encode"
   ]
  },
  {
   "cell_type": "markdown",
   "metadata": {},
   "source": [
    "<h4 style=\"text-align:justify;\">Paso 2: Definir la ruta del directorio</h4>"
   ]
  },
  {
   "cell_type": "code",
   "execution_count": 2,
   "metadata": {},
   "outputs": [],
   "source": [
    "directorio = \"13-07-2022\""
   ]
  },
  {
   "cell_type": "markdown",
   "metadata": {},
   "source": [
    "<hr>"
   ]
  },
  {
   "cell_type": "markdown",
   "metadata": {},
   "source": [
    "<hr>"
   ]
  },
  {
   "cell_type": "markdown",
   "metadata": {},
   "source": [
    "<h3><strong>Parte 2: Preparación de las afiliaciones</strong></h3>"
   ]
  },
  {
   "cell_type": "markdown",
   "metadata": {},
   "source": [
    "<h4 style=\"text-align:justify;\">Paso 1:Leer las afiliaciones en un dataframe</h4>"
   ]
  },
  {
   "cell_type": "code",
   "execution_count": 9,
   "metadata": {},
   "outputs": [],
   "source": [
    "dfAffiliations = pd.read_pickle('data/completo/'+directorio+'/affiliations.pkl')"
   ]
  },
  {
   "cell_type": "code",
   "execution_count": 10,
   "metadata": {},
   "outputs": [
    {
     "data": {
      "text/html": [
       "<div>\n",
       "<style scoped>\n",
       "    .dataframe tbody tr th:only-of-type {\n",
       "        vertical-align: middle;\n",
       "    }\n",
       "\n",
       "    .dataframe tbody tr th {\n",
       "        vertical-align: top;\n",
       "    }\n",
       "\n",
       "    .dataframe thead th {\n",
       "        text-align: right;\n",
       "    }\n",
       "</style>\n",
       "<table border=\"1\" class=\"dataframe\">\n",
       "  <thead>\n",
       "    <tr style=\"text-align: right;\">\n",
       "      <th></th>\n",
       "      <th>identifier</th>\n",
       "      <th>affiliation_name</th>\n",
       "      <th>city</th>\n",
       "      <th>country</th>\n",
       "    </tr>\n",
       "  </thead>\n",
       "  <tbody>\n",
       "    <tr>\n",
       "      <th>0</th>\n",
       "      <td>112741363</td>\n",
       "      <td>Fundación Sumac Muyu</td>\n",
       "      <td>None</td>\n",
       "      <td>Ecuador</td>\n",
       "    </tr>\n",
       "    <tr>\n",
       "      <th>1</th>\n",
       "      <td>125617636</td>\n",
       "      <td>Independent Agricultural Consultant</td>\n",
       "      <td>Santo Domingo</td>\n",
       "      <td>Ecuador</td>\n",
       "    </tr>\n",
       "    <tr>\n",
       "      <th>2</th>\n",
       "      <td>127300599</td>\n",
       "      <td>Fundación Agroecológica Río Negro</td>\n",
       "      <td>Santo Domingo de los Tsachilas</td>\n",
       "      <td>Ecuador</td>\n",
       "    </tr>\n",
       "    <tr>\n",
       "      <th>3</th>\n",
       "      <td>112632961</td>\n",
       "      <td>Gobierno Provincial de Imbabura</td>\n",
       "      <td>None</td>\n",
       "      <td>Ecuador</td>\n",
       "    </tr>\n",
       "    <tr>\n",
       "      <th>4</th>\n",
       "      <td>122274347</td>\n",
       "      <td>EMBIOECSA</td>\n",
       "      <td>Guayaquil</td>\n",
       "      <td>Ecuador</td>\n",
       "    </tr>\n",
       "    <tr>\n",
       "      <th>...</th>\n",
       "      <td>...</td>\n",
       "      <td>...</td>\n",
       "      <td>...</td>\n",
       "      <td>...</td>\n",
       "    </tr>\n",
       "    <tr>\n",
       "      <th>5367</th>\n",
       "      <td>113849153</td>\n",
       "      <td>Instituto Superior Tecnológico Sucre</td>\n",
       "      <td>Quito</td>\n",
       "      <td>Ecuador</td>\n",
       "    </tr>\n",
       "    <tr>\n",
       "      <th>5368</th>\n",
       "      <td>123212418</td>\n",
       "      <td>Asociación Nacional Nutricionistas del Ecuador...</td>\n",
       "      <td>Quito</td>\n",
       "      <td>Ecuador</td>\n",
       "    </tr>\n",
       "    <tr>\n",
       "      <th>5369</th>\n",
       "      <td>108669264</td>\n",
       "      <td>Hospital Alli Causai</td>\n",
       "      <td>None</td>\n",
       "      <td>Ecuador</td>\n",
       "    </tr>\n",
       "    <tr>\n",
       "      <th>5370</th>\n",
       "      <td>126364744</td>\n",
       "      <td>UNL</td>\n",
       "      <td>Loja</td>\n",
       "      <td>Ecuador</td>\n",
       "    </tr>\n",
       "    <tr>\n",
       "      <th>5371</th>\n",
       "      <td>120233183</td>\n",
       "      <td>Pontificial Catholic University of Ecuador in ...</td>\n",
       "      <td>None</td>\n",
       "      <td>Ecuador</td>\n",
       "    </tr>\n",
       "  </tbody>\n",
       "</table>\n",
       "<p>5372 rows × 4 columns</p>\n",
       "</div>"
      ],
      "text/plain": [
       "     identifier                                   affiliation_name  \\\n",
       "0     112741363                               Fundación Sumac Muyu   \n",
       "1     125617636                Independent Agricultural Consultant   \n",
       "2     127300599                  Fundación Agroecológica Río Negro   \n",
       "3     112632961                    Gobierno Provincial de Imbabura   \n",
       "4     122274347                                          EMBIOECSA   \n",
       "...         ...                                                ...   \n",
       "5367  113849153               Instituto Superior Tecnológico Sucre   \n",
       "5368  123212418  Asociación Nacional Nutricionistas del Ecuador...   \n",
       "5369  108669264                               Hospital Alli Causai   \n",
       "5370  126364744                                                UNL   \n",
       "5371  120233183  Pontificial Catholic University of Ecuador in ...   \n",
       "\n",
       "                                city  country  \n",
       "0                               None  Ecuador  \n",
       "1                      Santo Domingo  Ecuador  \n",
       "2     Santo Domingo de los Tsachilas  Ecuador  \n",
       "3                               None  Ecuador  \n",
       "4                          Guayaquil  Ecuador  \n",
       "...                              ...      ...  \n",
       "5367                           Quito  Ecuador  \n",
       "5368                           Quito  Ecuador  \n",
       "5369                            None  Ecuador  \n",
       "5370                            Loja  Ecuador  \n",
       "5371                            None  Ecuador  \n",
       "\n",
       "[5372 rows x 4 columns]"
      ]
     },
     "execution_count": 10,
     "metadata": {},
     "output_type": "execute_result"
    }
   ],
   "source": [
    "dfAffiliations"
   ]
  },
  {
   "cell_type": "markdown",
   "metadata": {},
   "source": [
    "<h4 style=\"text-align:justify;\">Paso 2: Recast de las afiliaciones</h4>"
   ]
  },
  {
   "cell_type": "code",
   "execution_count": 11,
   "metadata": {},
   "outputs": [],
   "source": [
    "#Establece la columna identifier como índice\n",
    "dfAffiliations.set_index('identifier', inplace = True)"
   ]
  },
  {
   "cell_type": "markdown",
   "metadata": {},
   "source": [
    "<h4 style=\"text-align:justify;\">Paso 3: Guardar dataframe de afiliaciones en un pickle</h4>"
   ]
  },
  {
   "cell_type": "code",
   "execution_count": 12,
   "metadata": {},
   "outputs": [],
   "source": [
    "dfAffiliations.to_pickle('data/completo/'+directorio+'/recast_affiliation.pkl')"
   ]
  },
  {
   "cell_type": "code",
   "execution_count": 13,
   "metadata": {},
   "outputs": [],
   "source": [
    "dfAffiliations = pd.read_pickle('data/completo/'+directorio+'/recast_affiliation.pkl')"
   ]
  },
  {
   "cell_type": "code",
   "execution_count": 14,
   "metadata": {},
   "outputs": [
    {
     "data": {
      "text/html": [
       "<div>\n",
       "<style scoped>\n",
       "    .dataframe tbody tr th:only-of-type {\n",
       "        vertical-align: middle;\n",
       "    }\n",
       "\n",
       "    .dataframe tbody tr th {\n",
       "        vertical-align: top;\n",
       "    }\n",
       "\n",
       "    .dataframe thead th {\n",
       "        text-align: right;\n",
       "    }\n",
       "</style>\n",
       "<table border=\"1\" class=\"dataframe\">\n",
       "  <thead>\n",
       "    <tr style=\"text-align: right;\">\n",
       "      <th></th>\n",
       "      <th>affiliation_name</th>\n",
       "      <th>city</th>\n",
       "      <th>country</th>\n",
       "    </tr>\n",
       "    <tr>\n",
       "      <th>identifier</th>\n",
       "      <th></th>\n",
       "      <th></th>\n",
       "      <th></th>\n",
       "    </tr>\n",
       "  </thead>\n",
       "  <tbody>\n",
       "    <tr>\n",
       "      <th>112741363</th>\n",
       "      <td>Fundación Sumac Muyu</td>\n",
       "      <td>None</td>\n",
       "      <td>Ecuador</td>\n",
       "    </tr>\n",
       "    <tr>\n",
       "      <th>125617636</th>\n",
       "      <td>Independent Agricultural Consultant</td>\n",
       "      <td>Santo Domingo</td>\n",
       "      <td>Ecuador</td>\n",
       "    </tr>\n",
       "    <tr>\n",
       "      <th>127300599</th>\n",
       "      <td>Fundación Agroecológica Río Negro</td>\n",
       "      <td>Santo Domingo de los Tsachilas</td>\n",
       "      <td>Ecuador</td>\n",
       "    </tr>\n",
       "    <tr>\n",
       "      <th>112632961</th>\n",
       "      <td>Gobierno Provincial de Imbabura</td>\n",
       "      <td>None</td>\n",
       "      <td>Ecuador</td>\n",
       "    </tr>\n",
       "    <tr>\n",
       "      <th>122274347</th>\n",
       "      <td>EMBIOECSA</td>\n",
       "      <td>Guayaquil</td>\n",
       "      <td>Ecuador</td>\n",
       "    </tr>\n",
       "    <tr>\n",
       "      <th>...</th>\n",
       "      <td>...</td>\n",
       "      <td>...</td>\n",
       "      <td>...</td>\n",
       "    </tr>\n",
       "    <tr>\n",
       "      <th>113849153</th>\n",
       "      <td>Instituto Superior Tecnológico Sucre</td>\n",
       "      <td>Quito</td>\n",
       "      <td>Ecuador</td>\n",
       "    </tr>\n",
       "    <tr>\n",
       "      <th>123212418</th>\n",
       "      <td>Asociación Nacional Nutricionistas del Ecuador...</td>\n",
       "      <td>Quito</td>\n",
       "      <td>Ecuador</td>\n",
       "    </tr>\n",
       "    <tr>\n",
       "      <th>108669264</th>\n",
       "      <td>Hospital Alli Causai</td>\n",
       "      <td>None</td>\n",
       "      <td>Ecuador</td>\n",
       "    </tr>\n",
       "    <tr>\n",
       "      <th>126364744</th>\n",
       "      <td>UNL</td>\n",
       "      <td>Loja</td>\n",
       "      <td>Ecuador</td>\n",
       "    </tr>\n",
       "    <tr>\n",
       "      <th>120233183</th>\n",
       "      <td>Pontificial Catholic University of Ecuador in ...</td>\n",
       "      <td>None</td>\n",
       "      <td>Ecuador</td>\n",
       "    </tr>\n",
       "  </tbody>\n",
       "</table>\n",
       "<p>5372 rows × 3 columns</p>\n",
       "</div>"
      ],
      "text/plain": [
       "                                             affiliation_name  \\\n",
       "identifier                                                      \n",
       "112741363                                Fundación Sumac Muyu   \n",
       "125617636                 Independent Agricultural Consultant   \n",
       "127300599                   Fundación Agroecológica Río Negro   \n",
       "112632961                     Gobierno Provincial de Imbabura   \n",
       "122274347                                           EMBIOECSA   \n",
       "...                                                       ...   \n",
       "113849153                Instituto Superior Tecnológico Sucre   \n",
       "123212418   Asociación Nacional Nutricionistas del Ecuador...   \n",
       "108669264                                Hospital Alli Causai   \n",
       "126364744                                                 UNL   \n",
       "120233183   Pontificial Catholic University of Ecuador in ...   \n",
       "\n",
       "                                      city  country  \n",
       "identifier                                           \n",
       "112741363                             None  Ecuador  \n",
       "125617636                    Santo Domingo  Ecuador  \n",
       "127300599   Santo Domingo de los Tsachilas  Ecuador  \n",
       "112632961                             None  Ecuador  \n",
       "122274347                        Guayaquil  Ecuador  \n",
       "...                                    ...      ...  \n",
       "113849153                            Quito  Ecuador  \n",
       "123212418                            Quito  Ecuador  \n",
       "108669264                             None  Ecuador  \n",
       "126364744                             Loja  Ecuador  \n",
       "120233183                             None  Ecuador  \n",
       "\n",
       "[5372 rows x 3 columns]"
      ]
     },
     "execution_count": 14,
     "metadata": {},
     "output_type": "execute_result"
    }
   ],
   "source": [
    "dfAffiliations"
   ]
  },
  {
   "cell_type": "markdown",
   "metadata": {},
   "source": [
    "<h4 style=\"text-align:justify;\">Paso 4: Almacenar los Ids de las afiliaciones ecuatorianas</h4>"
   ]
  },
  {
   "cell_type": "code",
   "execution_count": 42,
   "metadata": {},
   "outputs": [],
   "source": [
    "affiliationsIds = dfAffiliations.index.values.tolist() "
   ]
  },
  {
   "cell_type": "code",
   "execution_count": 43,
   "metadata": {},
   "outputs": [
    {
     "data": {
      "text/plain": [
       "5372"
      ]
     },
     "execution_count": 43,
     "metadata": {},
     "output_type": "execute_result"
    }
   ],
   "source": [
    "len(affiliationsIds)"
   ]
  },
  {
   "cell_type": "markdown",
   "metadata": {},
   "source": [
    "<hr>"
   ]
  },
  {
   "cell_type": "markdown",
   "metadata": {},
   "source": [
    "<hr>"
   ]
  },
  {
   "cell_type": "markdown",
   "metadata": {},
   "source": [
    "<h3><strong>Parte 3: Preparacion de los artículos</strong></h3>"
   ]
  },
  {
   "cell_type": "markdown",
   "metadata": {},
   "source": [
    "<h4 style=\"text-align:justify;\">Paso 1: Leer los artículos en un dataframe</h4>"
   ]
  },
  {
   "cell_type": "code",
   "execution_count": 28,
   "metadata": {},
   "outputs": [],
   "source": [
    "dfArticles = pd.read_pickle('data/completo/'+directorio+'/article.pkl')"
   ]
  },
  {
   "cell_type": "code",
   "execution_count": 32,
   "metadata": {
    "scrolled": true
   },
   "outputs": [
    {
     "data": {
      "text/html": [
       "<div>\n",
       "<style scoped>\n",
       "    .dataframe tbody tr th:only-of-type {\n",
       "        vertical-align: middle;\n",
       "    }\n",
       "\n",
       "    .dataframe tbody tr th {\n",
       "        vertical-align: top;\n",
       "    }\n",
       "\n",
       "    .dataframe thead th {\n",
       "        text-align: right;\n",
       "    }\n",
       "</style>\n",
       "<table border=\"1\" class=\"dataframe\">\n",
       "  <thead>\n",
       "    <tr style=\"text-align: right;\">\n",
       "      <th></th>\n",
       "      <th>identifier</th>\n",
       "      <th>title</th>\n",
       "      <th>publication_date</th>\n",
       "      <th>prism:doi</th>\n",
       "      <th>abstract</th>\n",
       "      <th>affiliations</th>\n",
       "      <th>authors</th>\n",
       "      <th>author_keywords</th>\n",
       "      <th>author_count</th>\n",
       "      <th>affiliation_count</th>\n",
       "    </tr>\n",
       "  </thead>\n",
       "  <tbody>\n",
       "    <tr>\n",
       "      <th>0</th>\n",
       "      <td>85133492759</td>\n",
       "      <td>Metamodeling and Audio Signals Design Process,...</td>\n",
       "      <td>2023-01-01</td>\n",
       "      <td>10.1007/978-3-031-09659-4_42</td>\n",
       "      <td>The context of the following work arises from ...</td>\n",
       "      <td>[{'afid': '60106645', 'affilname': 'Universida...</td>\n",
       "      <td>[{'authid': '57781304700', 'authname': 'Peñahe...</td>\n",
       "      <td>Audio signals design process | Experimental de...</td>\n",
       "      <td>3</td>\n",
       "      <td>2</td>\n",
       "    </tr>\n",
       "    <tr>\n",
       "      <th>1</th>\n",
       "      <td>85133293730</td>\n",
       "      <td>Facility Layout Design in Textile MSMEs. Liter...</td>\n",
       "      <td>2023-01-01</td>\n",
       "      <td>10.1007/978-3-031-09360-9_23</td>\n",
       "      <td>The capacity to respond and adapt to risks and...</td>\n",
       "      <td>[{'afid': '60106645', 'affilname': 'Universida...</td>\n",
       "      <td>[{'authid': '57777188600', 'authname': 'Albán-...</td>\n",
       "      <td>Facility layout problem | Indicators | Resilie...</td>\n",
       "      <td>5</td>\n",
       "      <td>2</td>\n",
       "    </tr>\n",
       "    <tr>\n",
       "      <th>2</th>\n",
       "      <td>85132518705</td>\n",
       "      <td>Optimal finite sample post-selection confidenc...</td>\n",
       "      <td>2023-01-01</td>\n",
       "      <td>10.1016/j.jspi.2022.06.001</td>\n",
       "      <td>Uniformly most powerful confidence distributio...</td>\n",
       "      <td>[{'afid': '60121225', 'affilname': 'Leuven Sta...</td>\n",
       "      <td>[{'authid': '57572669100', 'authname': 'Garcia...</td>\n",
       "      <td>Confidence distribution | Confidence interval ...</td>\n",
       "      <td>2</td>\n",
       "      <td>2</td>\n",
       "    </tr>\n",
       "    <tr>\n",
       "      <th>3</th>\n",
       "      <td>85112575431</td>\n",
       "      <td>Corporate social responsibility, green innovat...</td>\n",
       "      <td>2022-12-19</td>\n",
       "      <td>10.1108/CR-12-2020-0160</td>\n",
       "      <td>Purpose: The purpose of this paper is to explo...</td>\n",
       "      <td>[{'afid': '60072050', 'affilname': 'Universida...</td>\n",
       "      <td>[{'authid': '57195298226', 'authname': 'Padill...</td>\n",
       "      <td>Competitiveness | Corporate social responsibil...</td>\n",
       "      <td>2</td>\n",
       "      <td>2</td>\n",
       "    </tr>\n",
       "    <tr>\n",
       "      <th>4</th>\n",
       "      <td>85109263966</td>\n",
       "      <td>Analysing competing logics towards sustainable...</td>\n",
       "      <td>2022-12-19</td>\n",
       "      <td>10.1108/SCM-07-2020-0354</td>\n",
       "      <td>Purpose: To understand the context surrounding...</td>\n",
       "      <td>[{'afid': '60112757', 'affilname': 'Excelia Bu...</td>\n",
       "      <td>[{'authid': '57190878471', 'authname': 'León B...</td>\n",
       "      <td>Food industry | Global supply chain | Supply c...</td>\n",
       "      <td>3</td>\n",
       "      <td>3</td>\n",
       "    </tr>\n",
       "    <tr>\n",
       "      <th>...</th>\n",
       "      <td>...</td>\n",
       "      <td>...</td>\n",
       "      <td>...</td>\n",
       "      <td>...</td>\n",
       "      <td>...</td>\n",
       "      <td>...</td>\n",
       "      <td>...</td>\n",
       "      <td>...</td>\n",
       "      <td>...</td>\n",
       "      <td>...</td>\n",
       "    </tr>\n",
       "    <tr>\n",
       "      <th>40370</th>\n",
       "      <td>37049240084</td>\n",
       "      <td>Sodiro herbarium</td>\n",
       "      <td>1923-01-01</td>\n",
       "      <td>10.1126/science.58.1510.465</td>\n",
       "      <td>NaN</td>\n",
       "      <td>[{'afid': '60032280', 'affilname': 'United Sta...</td>\n",
       "      <td>[{'authid': '23082286800', 'authname': 'Hitchc...</td>\n",
       "      <td>NaN</td>\n",
       "      <td>1</td>\n",
       "      <td>1</td>\n",
       "    </tr>\n",
       "    <tr>\n",
       "      <th>40371</th>\n",
       "      <td>77957209355</td>\n",
       "      <td>The capsulín cherry: A superior form of the no...</td>\n",
       "      <td>1922-01-01</td>\n",
       "      <td>10.1093/oxfordjournals.jhered.a102156</td>\n",
       "      <td>NaN</td>\n",
       "      <td>[{'afid': '60032280', 'affilname': 'United Sta...</td>\n",
       "      <td>[{'authid': '36511689400', 'authname': 'Popeno...</td>\n",
       "      <td>NaN</td>\n",
       "      <td>2</td>\n",
       "      <td>2</td>\n",
       "    </tr>\n",
       "    <tr>\n",
       "      <th>40372</th>\n",
       "      <td>84941812731</td>\n",
       "      <td>Uncinarial nephritis</td>\n",
       "      <td>1921-01-01</td>\n",
       "      <td>10.1001/archinte.1921.00100170051003</td>\n",
       "      <td>NaN</td>\n",
       "      <td>[{'afid': '60072042', 'affilname': 'Universida...</td>\n",
       "      <td>[{'authid': '56852172200', 'authname': 'Rojas ...</td>\n",
       "      <td>NaN</td>\n",
       "      <td>2</td>\n",
       "      <td>1</td>\n",
       "    </tr>\n",
       "    <tr>\n",
       "      <th>40373</th>\n",
       "      <td>84944669127</td>\n",
       "      <td>Hookworm and other intestinal parasites in ecu...</td>\n",
       "      <td>1920-12-18</td>\n",
       "      <td>10.1001/jama.1920.02620510016007</td>\n",
       "      <td>NaN</td>\n",
       "      <td>[{'afid': '115872020', 'affilname': 'South Ame...</td>\n",
       "      <td>[{'authid': '56910946000', 'authname': 'Royer ...</td>\n",
       "      <td>NaN</td>\n",
       "      <td>1</td>\n",
       "      <td>1</td>\n",
       "    </tr>\n",
       "    <tr>\n",
       "      <th>40374</th>\n",
       "      <td>84944670009</td>\n",
       "      <td>Yellow fever control in ecuador: Final report</td>\n",
       "      <td>1920-10-30</td>\n",
       "      <td>10.1001/jama.1920.02620440014006</td>\n",
       "      <td>NaN</td>\n",
       "      <td>[{'afid': '115871777', 'affilname': 'Field Dir...</td>\n",
       "      <td>[{'authid': '56910852500', 'authname': 'Connor...</td>\n",
       "      <td>NaN</td>\n",
       "      <td>1</td>\n",
       "      <td>1</td>\n",
       "    </tr>\n",
       "  </tbody>\n",
       "</table>\n",
       "<p>40375 rows × 10 columns</p>\n",
       "</div>"
      ],
      "text/plain": [
       "        identifier                                              title  \\\n",
       "0      85133492759  Metamodeling and Audio Signals Design Process,...   \n",
       "1      85133293730  Facility Layout Design in Textile MSMEs. Liter...   \n",
       "2      85132518705  Optimal finite sample post-selection confidenc...   \n",
       "3      85112575431  Corporate social responsibility, green innovat...   \n",
       "4      85109263966  Analysing competing logics towards sustainable...   \n",
       "...            ...                                                ...   \n",
       "40370  37049240084                                   Sodiro herbarium   \n",
       "40371  77957209355  The capsulín cherry: A superior form of the no...   \n",
       "40372  84941812731                               Uncinarial nephritis   \n",
       "40373  84944669127  Hookworm and other intestinal parasites in ecu...   \n",
       "40374  84944670009      Yellow fever control in ecuador: Final report   \n",
       "\n",
       "      publication_date                              prism:doi  \\\n",
       "0           2023-01-01           10.1007/978-3-031-09659-4_42   \n",
       "1           2023-01-01           10.1007/978-3-031-09360-9_23   \n",
       "2           2023-01-01             10.1016/j.jspi.2022.06.001   \n",
       "3           2022-12-19                10.1108/CR-12-2020-0160   \n",
       "4           2022-12-19               10.1108/SCM-07-2020-0354   \n",
       "...                ...                                    ...   \n",
       "40370       1923-01-01            10.1126/science.58.1510.465   \n",
       "40371       1922-01-01  10.1093/oxfordjournals.jhered.a102156   \n",
       "40372       1921-01-01   10.1001/archinte.1921.00100170051003   \n",
       "40373       1920-12-18       10.1001/jama.1920.02620510016007   \n",
       "40374       1920-10-30       10.1001/jama.1920.02620440014006   \n",
       "\n",
       "                                                abstract  \\\n",
       "0      The context of the following work arises from ...   \n",
       "1      The capacity to respond and adapt to risks and...   \n",
       "2      Uniformly most powerful confidence distributio...   \n",
       "3      Purpose: The purpose of this paper is to explo...   \n",
       "4      Purpose: To understand the context surrounding...   \n",
       "...                                                  ...   \n",
       "40370                                                NaN   \n",
       "40371                                                NaN   \n",
       "40372                                                NaN   \n",
       "40373                                                NaN   \n",
       "40374                                                NaN   \n",
       "\n",
       "                                            affiliations  \\\n",
       "0      [{'afid': '60106645', 'affilname': 'Universida...   \n",
       "1      [{'afid': '60106645', 'affilname': 'Universida...   \n",
       "2      [{'afid': '60121225', 'affilname': 'Leuven Sta...   \n",
       "3      [{'afid': '60072050', 'affilname': 'Universida...   \n",
       "4      [{'afid': '60112757', 'affilname': 'Excelia Bu...   \n",
       "...                                                  ...   \n",
       "40370  [{'afid': '60032280', 'affilname': 'United Sta...   \n",
       "40371  [{'afid': '60032280', 'affilname': 'United Sta...   \n",
       "40372  [{'afid': '60072042', 'affilname': 'Universida...   \n",
       "40373  [{'afid': '115872020', 'affilname': 'South Ame...   \n",
       "40374  [{'afid': '115871777', 'affilname': 'Field Dir...   \n",
       "\n",
       "                                                 authors  \\\n",
       "0      [{'authid': '57781304700', 'authname': 'Peñahe...   \n",
       "1      [{'authid': '57777188600', 'authname': 'Albán-...   \n",
       "2      [{'authid': '57572669100', 'authname': 'Garcia...   \n",
       "3      [{'authid': '57195298226', 'authname': 'Padill...   \n",
       "4      [{'authid': '57190878471', 'authname': 'León B...   \n",
       "...                                                  ...   \n",
       "40370  [{'authid': '23082286800', 'authname': 'Hitchc...   \n",
       "40371  [{'authid': '36511689400', 'authname': 'Popeno...   \n",
       "40372  [{'authid': '56852172200', 'authname': 'Rojas ...   \n",
       "40373  [{'authid': '56910946000', 'authname': 'Royer ...   \n",
       "40374  [{'authid': '56910852500', 'authname': 'Connor...   \n",
       "\n",
       "                                         author_keywords  author_count  \\\n",
       "0      Audio signals design process | Experimental de...             3   \n",
       "1      Facility layout problem | Indicators | Resilie...             5   \n",
       "2      Confidence distribution | Confidence interval ...             2   \n",
       "3      Competitiveness | Corporate social responsibil...             2   \n",
       "4      Food industry | Global supply chain | Supply c...             3   \n",
       "...                                                  ...           ...   \n",
       "40370                                                NaN             1   \n",
       "40371                                                NaN             2   \n",
       "40372                                                NaN             2   \n",
       "40373                                                NaN             1   \n",
       "40374                                                NaN             1   \n",
       "\n",
       "       affiliation_count  \n",
       "0                      2  \n",
       "1                      2  \n",
       "2                      2  \n",
       "3                      2  \n",
       "4                      3  \n",
       "...                  ...  \n",
       "40370                  1  \n",
       "40371                  2  \n",
       "40372                  1  \n",
       "40373                  1  \n",
       "40374                  1  \n",
       "\n",
       "[40375 rows x 10 columns]"
      ]
     },
     "execution_count": 32,
     "metadata": {},
     "output_type": "execute_result"
    }
   ],
   "source": [
    "dfArticles"
   ]
  },
  {
   "cell_type": "markdown",
   "metadata": {},
   "source": [
    "<h4 style=\"text-align:justify;\">Paso 2: Obtener los artículos sin relación</h4>"
   ]
  },
  {
   "cell_type": "code",
   "execution_count": 33,
   "metadata": {},
   "outputs": [],
   "source": [
    "articlesIdsSinRelacion = pd.read_pickle('data/completo/'+directorio+'/unrelated_articles.pkl')"
   ]
  },
  {
   "cell_type": "code",
   "execution_count": 34,
   "metadata": {},
   "outputs": [
    {
     "data": {
      "text/plain": [
       "423"
      ]
     },
     "execution_count": 34,
     "metadata": {},
     "output_type": "execute_result"
    }
   ],
   "source": [
    "len(articlesIdsSinRelacion)"
   ]
  },
  {
   "cell_type": "markdown",
   "metadata": {},
   "source": [
    "<h4 style=\"text-align:justify;\">Paso 3: Recast de los artículos</h4>"
   ]
  },
  {
   "cell_type": "code",
   "execution_count": 35,
   "metadata": {},
   "outputs": [],
   "source": [
    "#Elimina los registros con affiliations igual a NaN\n",
    "#dfArticles.dropna(subset=['affiliation'], inplace=True)\n",
    "\n",
    "#Reinicia los índices del dataframe\n",
    "dfArticles.reset_index(drop=True, inplace=True)\n",
    "\n",
    "#Renombra las sigueintes columnas\n",
    "dfArticles.rename(columns = {'prism:doi': 'doi'}, inplace = True)\n",
    "\n",
    "#Establece la columna identifier como índice\n",
    "dfArticles.set_index('identifier', inplace = True)"
   ]
  },
  {
   "cell_type": "code",
   "execution_count": 36,
   "metadata": {},
   "outputs": [],
   "source": [
    "#Elimina los artículos sin relaciones\n",
    "dfArticles.drop(articlesIdsSinRelacion, inplace=True)"
   ]
  },
  {
   "cell_type": "code",
   "execution_count": 37,
   "metadata": {},
   "outputs": [
    {
     "data": {
      "text/html": [
       "<div>\n",
       "<style scoped>\n",
       "    .dataframe tbody tr th:only-of-type {\n",
       "        vertical-align: middle;\n",
       "    }\n",
       "\n",
       "    .dataframe tbody tr th {\n",
       "        vertical-align: top;\n",
       "    }\n",
       "\n",
       "    .dataframe thead th {\n",
       "        text-align: right;\n",
       "    }\n",
       "</style>\n",
       "<table border=\"1\" class=\"dataframe\">\n",
       "  <thead>\n",
       "    <tr style=\"text-align: right;\">\n",
       "      <th></th>\n",
       "      <th>title</th>\n",
       "      <th>publication_date</th>\n",
       "      <th>doi</th>\n",
       "      <th>abstract</th>\n",
       "      <th>affiliations</th>\n",
       "      <th>authors</th>\n",
       "      <th>author_keywords</th>\n",
       "      <th>author_count</th>\n",
       "      <th>affiliation_count</th>\n",
       "    </tr>\n",
       "    <tr>\n",
       "      <th>identifier</th>\n",
       "      <th></th>\n",
       "      <th></th>\n",
       "      <th></th>\n",
       "      <th></th>\n",
       "      <th></th>\n",
       "      <th></th>\n",
       "      <th></th>\n",
       "      <th></th>\n",
       "      <th></th>\n",
       "    </tr>\n",
       "  </thead>\n",
       "  <tbody>\n",
       "    <tr>\n",
       "      <th>85133492759</th>\n",
       "      <td>Metamodeling and Audio Signals Design Process,...</td>\n",
       "      <td>2023-01-01</td>\n",
       "      <td>10.1007/978-3-031-09659-4_42</td>\n",
       "      <td>The context of the following work arises from ...</td>\n",
       "      <td>[{'afid': '60106645', 'affilname': 'Universida...</td>\n",
       "      <td>[{'authid': '57781304700', 'authname': 'Peñahe...</td>\n",
       "      <td>Audio signals design process | Experimental de...</td>\n",
       "      <td>3</td>\n",
       "      <td>2</td>\n",
       "    </tr>\n",
       "    <tr>\n",
       "      <th>85133293730</th>\n",
       "      <td>Facility Layout Design in Textile MSMEs. Liter...</td>\n",
       "      <td>2023-01-01</td>\n",
       "      <td>10.1007/978-3-031-09360-9_23</td>\n",
       "      <td>The capacity to respond and adapt to risks and...</td>\n",
       "      <td>[{'afid': '60106645', 'affilname': 'Universida...</td>\n",
       "      <td>[{'authid': '57777188600', 'authname': 'Albán-...</td>\n",
       "      <td>Facility layout problem | Indicators | Resilie...</td>\n",
       "      <td>5</td>\n",
       "      <td>2</td>\n",
       "    </tr>\n",
       "    <tr>\n",
       "      <th>85132518705</th>\n",
       "      <td>Optimal finite sample post-selection confidenc...</td>\n",
       "      <td>2023-01-01</td>\n",
       "      <td>10.1016/j.jspi.2022.06.001</td>\n",
       "      <td>Uniformly most powerful confidence distributio...</td>\n",
       "      <td>[{'afid': '60121225', 'affilname': 'Leuven Sta...</td>\n",
       "      <td>[{'authid': '57572669100', 'authname': 'Garcia...</td>\n",
       "      <td>Confidence distribution | Confidence interval ...</td>\n",
       "      <td>2</td>\n",
       "      <td>2</td>\n",
       "    </tr>\n",
       "    <tr>\n",
       "      <th>85112575431</th>\n",
       "      <td>Corporate social responsibility, green innovat...</td>\n",
       "      <td>2022-12-19</td>\n",
       "      <td>10.1108/CR-12-2020-0160</td>\n",
       "      <td>Purpose: The purpose of this paper is to explo...</td>\n",
       "      <td>[{'afid': '60072050', 'affilname': 'Universida...</td>\n",
       "      <td>[{'authid': '57195298226', 'authname': 'Padill...</td>\n",
       "      <td>Competitiveness | Corporate social responsibil...</td>\n",
       "      <td>2</td>\n",
       "      <td>2</td>\n",
       "    </tr>\n",
       "    <tr>\n",
       "      <th>85109263966</th>\n",
       "      <td>Analysing competing logics towards sustainable...</td>\n",
       "      <td>2022-12-19</td>\n",
       "      <td>10.1108/SCM-07-2020-0354</td>\n",
       "      <td>Purpose: To understand the context surrounding...</td>\n",
       "      <td>[{'afid': '60112757', 'affilname': 'Excelia Bu...</td>\n",
       "      <td>[{'authid': '57190878471', 'authname': 'León B...</td>\n",
       "      <td>Food industry | Global supply chain | Supply c...</td>\n",
       "      <td>3</td>\n",
       "      <td>3</td>\n",
       "    </tr>\n",
       "    <tr>\n",
       "      <th>...</th>\n",
       "      <td>...</td>\n",
       "      <td>...</td>\n",
       "      <td>...</td>\n",
       "      <td>...</td>\n",
       "      <td>...</td>\n",
       "      <td>...</td>\n",
       "      <td>...</td>\n",
       "      <td>...</td>\n",
       "      <td>...</td>\n",
       "    </tr>\n",
       "    <tr>\n",
       "      <th>33646049406</th>\n",
       "      <td>Beiträge zur Kenntnis des Fluges der Fledermäu...</td>\n",
       "      <td>1925-01-01</td>\n",
       "      <td>10.1111/j.1463-6395.1925.tb00265.x</td>\n",
       "      <td>NaN</td>\n",
       "      <td>[{'afid': '120628571', 'affilname': 'Marbach a...</td>\n",
       "      <td>[{'authid': '35935630900', 'authname': 'Spillm...</td>\n",
       "      <td>NaN</td>\n",
       "      <td>1</td>\n",
       "      <td>1</td>\n",
       "    </tr>\n",
       "    <tr>\n",
       "      <th>77957209355</th>\n",
       "      <td>The capsulín cherry: A superior form of the no...</td>\n",
       "      <td>1922-01-01</td>\n",
       "      <td>10.1093/oxfordjournals.jhered.a102156</td>\n",
       "      <td>NaN</td>\n",
       "      <td>[{'afid': '60032280', 'affilname': 'United Sta...</td>\n",
       "      <td>[{'authid': '36511689400', 'authname': 'Popeno...</td>\n",
       "      <td>NaN</td>\n",
       "      <td>2</td>\n",
       "      <td>2</td>\n",
       "    </tr>\n",
       "    <tr>\n",
       "      <th>84941812731</th>\n",
       "      <td>Uncinarial nephritis</td>\n",
       "      <td>1921-01-01</td>\n",
       "      <td>10.1001/archinte.1921.00100170051003</td>\n",
       "      <td>NaN</td>\n",
       "      <td>[{'afid': '60072042', 'affilname': 'Universida...</td>\n",
       "      <td>[{'authid': '56852172200', 'authname': 'Rojas ...</td>\n",
       "      <td>NaN</td>\n",
       "      <td>2</td>\n",
       "      <td>1</td>\n",
       "    </tr>\n",
       "    <tr>\n",
       "      <th>84944669127</th>\n",
       "      <td>Hookworm and other intestinal parasites in ecu...</td>\n",
       "      <td>1920-12-18</td>\n",
       "      <td>10.1001/jama.1920.02620510016007</td>\n",
       "      <td>NaN</td>\n",
       "      <td>[{'afid': '115872020', 'affilname': 'South Ame...</td>\n",
       "      <td>[{'authid': '56910946000', 'authname': 'Royer ...</td>\n",
       "      <td>NaN</td>\n",
       "      <td>1</td>\n",
       "      <td>1</td>\n",
       "    </tr>\n",
       "    <tr>\n",
       "      <th>84944670009</th>\n",
       "      <td>Yellow fever control in ecuador: Final report</td>\n",
       "      <td>1920-10-30</td>\n",
       "      <td>10.1001/jama.1920.02620440014006</td>\n",
       "      <td>NaN</td>\n",
       "      <td>[{'afid': '115871777', 'affilname': 'Field Dir...</td>\n",
       "      <td>[{'authid': '56910852500', 'authname': 'Connor...</td>\n",
       "      <td>NaN</td>\n",
       "      <td>1</td>\n",
       "      <td>1</td>\n",
       "    </tr>\n",
       "  </tbody>\n",
       "</table>\n",
       "<p>39952 rows × 9 columns</p>\n",
       "</div>"
      ],
      "text/plain": [
       "                                                         title  \\\n",
       "identifier                                                       \n",
       "85133492759  Metamodeling and Audio Signals Design Process,...   \n",
       "85133293730  Facility Layout Design in Textile MSMEs. Liter...   \n",
       "85132518705  Optimal finite sample post-selection confidenc...   \n",
       "85112575431  Corporate social responsibility, green innovat...   \n",
       "85109263966  Analysing competing logics towards sustainable...   \n",
       "...                                                        ...   \n",
       "33646049406  Beiträge zur Kenntnis des Fluges der Fledermäu...   \n",
       "77957209355  The capsulín cherry: A superior form of the no...   \n",
       "84941812731                               Uncinarial nephritis   \n",
       "84944669127  Hookworm and other intestinal parasites in ecu...   \n",
       "84944670009      Yellow fever control in ecuador: Final report   \n",
       "\n",
       "            publication_date                                    doi  \\\n",
       "identifier                                                            \n",
       "85133492759       2023-01-01           10.1007/978-3-031-09659-4_42   \n",
       "85133293730       2023-01-01           10.1007/978-3-031-09360-9_23   \n",
       "85132518705       2023-01-01             10.1016/j.jspi.2022.06.001   \n",
       "85112575431       2022-12-19                10.1108/CR-12-2020-0160   \n",
       "85109263966       2022-12-19               10.1108/SCM-07-2020-0354   \n",
       "...                      ...                                    ...   \n",
       "33646049406       1925-01-01     10.1111/j.1463-6395.1925.tb00265.x   \n",
       "77957209355       1922-01-01  10.1093/oxfordjournals.jhered.a102156   \n",
       "84941812731       1921-01-01   10.1001/archinte.1921.00100170051003   \n",
       "84944669127       1920-12-18       10.1001/jama.1920.02620510016007   \n",
       "84944670009       1920-10-30       10.1001/jama.1920.02620440014006   \n",
       "\n",
       "                                                      abstract  \\\n",
       "identifier                                                       \n",
       "85133492759  The context of the following work arises from ...   \n",
       "85133293730  The capacity to respond and adapt to risks and...   \n",
       "85132518705  Uniformly most powerful confidence distributio...   \n",
       "85112575431  Purpose: The purpose of this paper is to explo...   \n",
       "85109263966  Purpose: To understand the context surrounding...   \n",
       "...                                                        ...   \n",
       "33646049406                                                NaN   \n",
       "77957209355                                                NaN   \n",
       "84941812731                                                NaN   \n",
       "84944669127                                                NaN   \n",
       "84944670009                                                NaN   \n",
       "\n",
       "                                                  affiliations  \\\n",
       "identifier                                                       \n",
       "85133492759  [{'afid': '60106645', 'affilname': 'Universida...   \n",
       "85133293730  [{'afid': '60106645', 'affilname': 'Universida...   \n",
       "85132518705  [{'afid': '60121225', 'affilname': 'Leuven Sta...   \n",
       "85112575431  [{'afid': '60072050', 'affilname': 'Universida...   \n",
       "85109263966  [{'afid': '60112757', 'affilname': 'Excelia Bu...   \n",
       "...                                                        ...   \n",
       "33646049406  [{'afid': '120628571', 'affilname': 'Marbach a...   \n",
       "77957209355  [{'afid': '60032280', 'affilname': 'United Sta...   \n",
       "84941812731  [{'afid': '60072042', 'affilname': 'Universida...   \n",
       "84944669127  [{'afid': '115872020', 'affilname': 'South Ame...   \n",
       "84944670009  [{'afid': '115871777', 'affilname': 'Field Dir...   \n",
       "\n",
       "                                                       authors  \\\n",
       "identifier                                                       \n",
       "85133492759  [{'authid': '57781304700', 'authname': 'Peñahe...   \n",
       "85133293730  [{'authid': '57777188600', 'authname': 'Albán-...   \n",
       "85132518705  [{'authid': '57572669100', 'authname': 'Garcia...   \n",
       "85112575431  [{'authid': '57195298226', 'authname': 'Padill...   \n",
       "85109263966  [{'authid': '57190878471', 'authname': 'León B...   \n",
       "...                                                        ...   \n",
       "33646049406  [{'authid': '35935630900', 'authname': 'Spillm...   \n",
       "77957209355  [{'authid': '36511689400', 'authname': 'Popeno...   \n",
       "84941812731  [{'authid': '56852172200', 'authname': 'Rojas ...   \n",
       "84944669127  [{'authid': '56910946000', 'authname': 'Royer ...   \n",
       "84944670009  [{'authid': '56910852500', 'authname': 'Connor...   \n",
       "\n",
       "                                               author_keywords  author_count  \\\n",
       "identifier                                                                     \n",
       "85133492759  Audio signals design process | Experimental de...             3   \n",
       "85133293730  Facility layout problem | Indicators | Resilie...             5   \n",
       "85132518705  Confidence distribution | Confidence interval ...             2   \n",
       "85112575431  Competitiveness | Corporate social responsibil...             2   \n",
       "85109263966  Food industry | Global supply chain | Supply c...             3   \n",
       "...                                                        ...           ...   \n",
       "33646049406                                                NaN             1   \n",
       "77957209355                                                NaN             2   \n",
       "84941812731                                                NaN             2   \n",
       "84944669127                                                NaN             1   \n",
       "84944670009                                                NaN             1   \n",
       "\n",
       "             affiliation_count  \n",
       "identifier                      \n",
       "85133492759                  2  \n",
       "85133293730                  2  \n",
       "85132518705                  2  \n",
       "85112575431                  2  \n",
       "85109263966                  3  \n",
       "...                        ...  \n",
       "33646049406                  1  \n",
       "77957209355                  2  \n",
       "84941812731                  1  \n",
       "84944669127                  1  \n",
       "84944670009                  1  \n",
       "\n",
       "[39952 rows x 9 columns]"
      ]
     },
     "execution_count": 37,
     "metadata": {},
     "output_type": "execute_result"
    }
   ],
   "source": [
    "dfArticles"
   ]
  },
  {
   "cell_type": "markdown",
   "metadata": {},
   "source": [
    "<h4 style=\"text-align:justify;\">Paso 3: Guardar dataframe de artículos en un pickle</h4>"
   ]
  },
  {
   "cell_type": "code",
   "execution_count": 38,
   "metadata": {},
   "outputs": [],
   "source": [
    "dfArticles.to_pickle('data/completo/'+directorio+'/recast_article.pkl')"
   ]
  },
  {
   "cell_type": "code",
   "execution_count": 39,
   "metadata": {},
   "outputs": [],
   "source": [
    "dfArticles = pd.read_pickle('data/completo/'+directorio+'/recast_article.pkl')"
   ]
  },
  {
   "cell_type": "markdown",
   "metadata": {},
   "source": [
    "<hr>"
   ]
  },
  {
   "cell_type": "markdown",
   "metadata": {},
   "source": [
    "<hr>"
   ]
  },
  {
   "cell_type": "markdown",
   "metadata": {},
   "source": [
    "<h3><strong>Parte 4: Preparación de los autores ecuatorianos de los artículos</strong></h3>"
   ]
  },
  {
   "cell_type": "markdown",
   "metadata": {},
   "source": [
    "<h4 style=\"text-align:justify;\">Paso 1: Leer los autores almacenados en un dataframe</h4>"
   ]
  },
  {
   "cell_type": "code",
   "execution_count": 53,
   "metadata": {},
   "outputs": [
    {
     "data": {
      "text/html": [
       "<div>\n",
       "<style scoped>\n",
       "    .dataframe tbody tr th:only-of-type {\n",
       "        vertical-align: middle;\n",
       "    }\n",
       "\n",
       "    .dataframe tbody tr th {\n",
       "        vertical-align: top;\n",
       "    }\n",
       "\n",
       "    .dataframe thead th {\n",
       "        text-align: right;\n",
       "    }\n",
       "</style>\n",
       "<table border=\"1\" class=\"dataframe\">\n",
       "  <thead>\n",
       "    <tr style=\"text-align: right;\">\n",
       "      <th></th>\n",
       "      <th>identifier</th>\n",
       "      <th>first_name</th>\n",
       "      <th>last_name</th>\n",
       "      <th>auth_name</th>\n",
       "      <th>initials</th>\n",
       "    </tr>\n",
       "  </thead>\n",
       "  <tbody>\n",
       "    <tr>\n",
       "      <th>0</th>\n",
       "      <td>57219054382</td>\n",
       "      <td>Jorge Edwin</td>\n",
       "      <td>Ormaza Andrade</td>\n",
       "      <td>Ormaza Andrade J.E.</td>\n",
       "      <td>J.E.</td>\n",
       "    </tr>\n",
       "    <tr>\n",
       "      <th>1</th>\n",
       "      <td>57192930404</td>\n",
       "      <td>Mario</td>\n",
       "      <td>Hurtado</td>\n",
       "      <td>Hurtado M.</td>\n",
       "      <td>M.</td>\n",
       "    </tr>\n",
       "    <tr>\n",
       "      <th>2</th>\n",
       "      <td>57192803433</td>\n",
       "      <td>Ruth Elizabeth</td>\n",
       "      <td>Minga-Vallejo</td>\n",
       "      <td>Minga-Vallejo R.E.</td>\n",
       "      <td>R.E.</td>\n",
       "    </tr>\n",
       "    <tr>\n",
       "      <th>3</th>\n",
       "      <td>57220465983</td>\n",
       "      <td>Carlos</td>\n",
       "      <td>Tapia</td>\n",
       "      <td>Tapia C.</td>\n",
       "      <td>C.</td>\n",
       "    </tr>\n",
       "    <tr>\n",
       "      <th>4</th>\n",
       "      <td>57215549671</td>\n",
       "      <td>Pelayo</td>\n",
       "      <td>Salinas-DeLeón</td>\n",
       "      <td>Salinas-DeLeón P.</td>\n",
       "      <td>P.</td>\n",
       "    </tr>\n",
       "    <tr>\n",
       "      <th>...</th>\n",
       "      <td>...</td>\n",
       "      <td>...</td>\n",
       "      <td>...</td>\n",
       "      <td>...</td>\n",
       "      <td>...</td>\n",
       "    </tr>\n",
       "    <tr>\n",
       "      <th>39220</th>\n",
       "      <td>57216415863</td>\n",
       "      <td>Johana</td>\n",
       "      <td>Quinonez</td>\n",
       "      <td>Quinonez J.</td>\n",
       "      <td>J.</td>\n",
       "    </tr>\n",
       "    <tr>\n",
       "      <th>39221</th>\n",
       "      <td>57209980941</td>\n",
       "      <td>José</td>\n",
       "      <td>Palacios</td>\n",
       "      <td>Palacios J.</td>\n",
       "      <td>J.</td>\n",
       "    </tr>\n",
       "    <tr>\n",
       "      <th>39222</th>\n",
       "      <td>57192640335</td>\n",
       "      <td>Santiago</td>\n",
       "      <td>Aguiar</td>\n",
       "      <td>Aguiar S.</td>\n",
       "      <td>S.</td>\n",
       "    </tr>\n",
       "    <tr>\n",
       "      <th>39223</th>\n",
       "      <td>57191111922</td>\n",
       "      <td>J. R.</td>\n",
       "      <td>VELASTEGUI</td>\n",
       "      <td>VELASTEGUI J.</td>\n",
       "      <td>J.R.</td>\n",
       "    </tr>\n",
       "    <tr>\n",
       "      <th>39224</th>\n",
       "      <td>57204708491</td>\n",
       "      <td>Jimmy Gustavo</td>\n",
       "      <td>Briceño Buele</td>\n",
       "      <td>Briceño Buele J.G.</td>\n",
       "      <td>J.G.</td>\n",
       "    </tr>\n",
       "  </tbody>\n",
       "</table>\n",
       "<p>39225 rows × 5 columns</p>\n",
       "</div>"
      ],
      "text/plain": [
       "        identifier      first_name       last_name            auth_name  \\\n",
       "0      57219054382     Jorge Edwin  Ormaza Andrade  Ormaza Andrade J.E.   \n",
       "1      57192930404           Mario         Hurtado           Hurtado M.   \n",
       "2      57192803433  Ruth Elizabeth   Minga-Vallejo   Minga-Vallejo R.E.   \n",
       "3      57220465983          Carlos           Tapia             Tapia C.   \n",
       "4      57215549671          Pelayo  Salinas-DeLeón    Salinas-DeLeón P.   \n",
       "...            ...             ...             ...                  ...   \n",
       "39220  57216415863          Johana        Quinonez          Quinonez J.   \n",
       "39221  57209980941            José        Palacios          Palacios J.   \n",
       "39222  57192640335        Santiago          Aguiar            Aguiar S.   \n",
       "39223  57191111922           J. R.      VELASTEGUI        VELASTEGUI J.   \n",
       "39224  57204708491   Jimmy Gustavo   Briceño Buele   Briceño Buele J.G.   \n",
       "\n",
       "      initials  \n",
       "0         J.E.  \n",
       "1           M.  \n",
       "2         R.E.  \n",
       "3           C.  \n",
       "4           P.  \n",
       "...        ...  \n",
       "39220       J.  \n",
       "39221       J.  \n",
       "39222       S.  \n",
       "39223     J.R.  \n",
       "39224     J.G.  \n",
       "\n",
       "[39225 rows x 5 columns]"
      ]
     },
     "execution_count": 53,
     "metadata": {},
     "output_type": "execute_result"
    }
   ],
   "source": [
    "dfAuthors = pd.read_pickle('data/completo/'+directorio+'/authors.pkl')\n",
    "dfAuthors"
   ]
  },
  {
   "cell_type": "markdown",
   "metadata": {},
   "source": [
    "<h4 style=\"text-align:justify;\">Paso 5: Recast de los resultados</h4>"
   ]
  },
  {
   "cell_type": "code",
   "execution_count": 54,
   "metadata": {},
   "outputs": [],
   "source": [
    "#Establece la columna identifier como índice\n",
    "dfAuthors.set_index('identifier', inplace = True)"
   ]
  },
  {
   "cell_type": "code",
   "execution_count": 55,
   "metadata": {},
   "outputs": [
    {
     "data": {
      "text/html": [
       "<div>\n",
       "<style scoped>\n",
       "    .dataframe tbody tr th:only-of-type {\n",
       "        vertical-align: middle;\n",
       "    }\n",
       "\n",
       "    .dataframe tbody tr th {\n",
       "        vertical-align: top;\n",
       "    }\n",
       "\n",
       "    .dataframe thead th {\n",
       "        text-align: right;\n",
       "    }\n",
       "</style>\n",
       "<table border=\"1\" class=\"dataframe\">\n",
       "  <thead>\n",
       "    <tr style=\"text-align: right;\">\n",
       "      <th></th>\n",
       "      <th>first_name</th>\n",
       "      <th>last_name</th>\n",
       "      <th>auth_name</th>\n",
       "      <th>initials</th>\n",
       "    </tr>\n",
       "    <tr>\n",
       "      <th>identifier</th>\n",
       "      <th></th>\n",
       "      <th></th>\n",
       "      <th></th>\n",
       "      <th></th>\n",
       "    </tr>\n",
       "  </thead>\n",
       "  <tbody>\n",
       "    <tr>\n",
       "      <th>57219054382</th>\n",
       "      <td>Jorge Edwin</td>\n",
       "      <td>Ormaza Andrade</td>\n",
       "      <td>Ormaza Andrade J.E.</td>\n",
       "      <td>J.E.</td>\n",
       "    </tr>\n",
       "    <tr>\n",
       "      <th>57192930404</th>\n",
       "      <td>Mario</td>\n",
       "      <td>Hurtado</td>\n",
       "      <td>Hurtado M.</td>\n",
       "      <td>M.</td>\n",
       "    </tr>\n",
       "    <tr>\n",
       "      <th>57192803433</th>\n",
       "      <td>Ruth Elizabeth</td>\n",
       "      <td>Minga-Vallejo</td>\n",
       "      <td>Minga-Vallejo R.E.</td>\n",
       "      <td>R.E.</td>\n",
       "    </tr>\n",
       "    <tr>\n",
       "      <th>57220465983</th>\n",
       "      <td>Carlos</td>\n",
       "      <td>Tapia</td>\n",
       "      <td>Tapia C.</td>\n",
       "      <td>C.</td>\n",
       "    </tr>\n",
       "    <tr>\n",
       "      <th>57215549671</th>\n",
       "      <td>Pelayo</td>\n",
       "      <td>Salinas-DeLeón</td>\n",
       "      <td>Salinas-DeLeón P.</td>\n",
       "      <td>P.</td>\n",
       "    </tr>\n",
       "    <tr>\n",
       "      <th>...</th>\n",
       "      <td>...</td>\n",
       "      <td>...</td>\n",
       "      <td>...</td>\n",
       "      <td>...</td>\n",
       "    </tr>\n",
       "    <tr>\n",
       "      <th>57216415863</th>\n",
       "      <td>Johana</td>\n",
       "      <td>Quinonez</td>\n",
       "      <td>Quinonez J.</td>\n",
       "      <td>J.</td>\n",
       "    </tr>\n",
       "    <tr>\n",
       "      <th>57209980941</th>\n",
       "      <td>José</td>\n",
       "      <td>Palacios</td>\n",
       "      <td>Palacios J.</td>\n",
       "      <td>J.</td>\n",
       "    </tr>\n",
       "    <tr>\n",
       "      <th>57192640335</th>\n",
       "      <td>Santiago</td>\n",
       "      <td>Aguiar</td>\n",
       "      <td>Aguiar S.</td>\n",
       "      <td>S.</td>\n",
       "    </tr>\n",
       "    <tr>\n",
       "      <th>57191111922</th>\n",
       "      <td>J. R.</td>\n",
       "      <td>VELASTEGUI</td>\n",
       "      <td>VELASTEGUI J.</td>\n",
       "      <td>J.R.</td>\n",
       "    </tr>\n",
       "    <tr>\n",
       "      <th>57204708491</th>\n",
       "      <td>Jimmy Gustavo</td>\n",
       "      <td>Briceño Buele</td>\n",
       "      <td>Briceño Buele J.G.</td>\n",
       "      <td>J.G.</td>\n",
       "    </tr>\n",
       "  </tbody>\n",
       "</table>\n",
       "<p>39225 rows × 4 columns</p>\n",
       "</div>"
      ],
      "text/plain": [
       "                 first_name       last_name            auth_name initials\n",
       "identifier                                                               \n",
       "57219054382     Jorge Edwin  Ormaza Andrade  Ormaza Andrade J.E.     J.E.\n",
       "57192930404           Mario         Hurtado           Hurtado M.       M.\n",
       "57192803433  Ruth Elizabeth   Minga-Vallejo   Minga-Vallejo R.E.     R.E.\n",
       "57220465983          Carlos           Tapia             Tapia C.       C.\n",
       "57215549671          Pelayo  Salinas-DeLeón    Salinas-DeLeón P.       P.\n",
       "...                     ...             ...                  ...      ...\n",
       "57216415863          Johana        Quinonez          Quinonez J.       J.\n",
       "57209980941            José        Palacios          Palacios J.       J.\n",
       "57192640335        Santiago          Aguiar            Aguiar S.       S.\n",
       "57191111922           J. R.      VELASTEGUI        VELASTEGUI J.     J.R.\n",
       "57204708491   Jimmy Gustavo   Briceño Buele   Briceño Buele J.G.     J.G.\n",
       "\n",
       "[39225 rows x 4 columns]"
      ]
     },
     "execution_count": 55,
     "metadata": {},
     "output_type": "execute_result"
    }
   ],
   "source": [
    "dfAuthors"
   ]
  },
  {
   "cell_type": "markdown",
   "metadata": {},
   "source": [
    "<h4 style=\"text-align:justify;\">Paso 6: Guardar dataframe de autores en un pickle</h4>"
   ]
  },
  {
   "cell_type": "code",
   "execution_count": 56,
   "metadata": {},
   "outputs": [],
   "source": [
    "dfAuthors.to_pickle('data/completo/'+directorio+'/recast_author.pkl')"
   ]
  },
  {
   "cell_type": "code",
   "execution_count": 57,
   "metadata": {},
   "outputs": [],
   "source": [
    "dfAuthors = pd.read_pickle('data/completo/'+directorio+'/recast_author.pkl')"
   ]
  },
  {
   "cell_type": "markdown",
   "metadata": {},
   "source": [
    "<hr>"
   ]
  },
  {
   "cell_type": "markdown",
   "metadata": {},
   "source": [
    "<hr>"
   ]
  },
  {
   "cell_type": "markdown",
   "metadata": {},
   "source": [
    "<h3><strong>Parte 4: Preparación de las relaciones entre artículo y afiliación</strong></h3>"
   ]
  },
  {
   "cell_type": "markdown",
   "metadata": {},
   "source": [
    "<h4 style=\"text-align:justify;\">Paso 1: Obtener los datos de las relaciones de artículo y afiliación</h4>"
   ]
  },
  {
   "cell_type": "code",
   "execution_count": 74,
   "metadata": {},
   "outputs": [],
   "source": [
    "affiliationsIds = dfAffiliations.index.tolist()\n",
    "dataArticlesAffiliations = []\n",
    "for index, row in dfArticles.iterrows():\n",
    "    for affil in row['affiliations']:\n",
    "        if affil['afid'] in affiliationsIds:\n",
    "            dataArticlesAffiliations.append({\n",
    "                'article_id': index,\n",
    "                'affiliation_id': affil['afid']\n",
    "            })"
   ]
  },
  {
   "cell_type": "code",
   "execution_count": 75,
   "metadata": {},
   "outputs": [
    {
     "name": "stdout",
     "output_type": "stream",
     "text": [
      "Número de registros de article_affiliation: 55302\n"
     ]
    }
   ],
   "source": [
    "print('Número de registros de article_affiliation:', len(dataArticlesAffiliations))"
   ]
  },
  {
   "cell_type": "markdown",
   "metadata": {},
   "source": [
    "<h4 style=\"text-align:justify;\">Paso 2: Cargar los datos de las relaciones entre artículo y afiliación en un dataframe</h4>"
   ]
  },
  {
   "cell_type": "code",
   "execution_count": 78,
   "metadata": {},
   "outputs": [],
   "source": [
    "dfArticlesAffiliations = pd.DataFrame(dataArticlesAffiliations)"
   ]
  },
  {
   "cell_type": "code",
   "execution_count": 79,
   "metadata": {},
   "outputs": [
    {
     "data": {
      "text/html": [
       "<div>\n",
       "<style scoped>\n",
       "    .dataframe tbody tr th:only-of-type {\n",
       "        vertical-align: middle;\n",
       "    }\n",
       "\n",
       "    .dataframe tbody tr th {\n",
       "        vertical-align: top;\n",
       "    }\n",
       "\n",
       "    .dataframe thead th {\n",
       "        text-align: right;\n",
       "    }\n",
       "</style>\n",
       "<table border=\"1\" class=\"dataframe\">\n",
       "  <thead>\n",
       "    <tr style=\"text-align: right;\">\n",
       "      <th></th>\n",
       "      <th>article_id</th>\n",
       "      <th>affiliation_id</th>\n",
       "    </tr>\n",
       "  </thead>\n",
       "  <tbody>\n",
       "    <tr>\n",
       "      <th>0</th>\n",
       "      <td>85133492759</td>\n",
       "      <td>60106645</td>\n",
       "    </tr>\n",
       "    <tr>\n",
       "      <th>1</th>\n",
       "      <td>85133293730</td>\n",
       "      <td>60106645</td>\n",
       "    </tr>\n",
       "    <tr>\n",
       "      <th>2</th>\n",
       "      <td>85133293730</td>\n",
       "      <td>60072035</td>\n",
       "    </tr>\n",
       "    <tr>\n",
       "      <th>3</th>\n",
       "      <td>85132518705</td>\n",
       "      <td>60072061</td>\n",
       "    </tr>\n",
       "    <tr>\n",
       "      <th>4</th>\n",
       "      <td>85112575431</td>\n",
       "      <td>60072050</td>\n",
       "    </tr>\n",
       "    <tr>\n",
       "      <th>...</th>\n",
       "      <td>...</td>\n",
       "      <td>...</td>\n",
       "    </tr>\n",
       "    <tr>\n",
       "      <th>55297</th>\n",
       "      <td>33646049406</td>\n",
       "      <td>120628571</td>\n",
       "    </tr>\n",
       "    <tr>\n",
       "      <th>55298</th>\n",
       "      <td>77957209355</td>\n",
       "      <td>109557708</td>\n",
       "    </tr>\n",
       "    <tr>\n",
       "      <th>55299</th>\n",
       "      <td>84941812731</td>\n",
       "      <td>60072042</td>\n",
       "    </tr>\n",
       "    <tr>\n",
       "      <th>55300</th>\n",
       "      <td>84944669127</td>\n",
       "      <td>115872020</td>\n",
       "    </tr>\n",
       "    <tr>\n",
       "      <th>55301</th>\n",
       "      <td>84944670009</td>\n",
       "      <td>115871777</td>\n",
       "    </tr>\n",
       "  </tbody>\n",
       "</table>\n",
       "<p>55302 rows × 2 columns</p>\n",
       "</div>"
      ],
      "text/plain": [
       "        article_id affiliation_id\n",
       "0      85133492759       60106645\n",
       "1      85133293730       60106645\n",
       "2      85133293730       60072035\n",
       "3      85132518705       60072061\n",
       "4      85112575431       60072050\n",
       "...            ...            ...\n",
       "55297  33646049406      120628571\n",
       "55298  77957209355      109557708\n",
       "55299  84941812731       60072042\n",
       "55300  84944669127      115872020\n",
       "55301  84944670009      115871777\n",
       "\n",
       "[55302 rows x 2 columns]"
      ]
     },
     "execution_count": 79,
     "metadata": {},
     "output_type": "execute_result"
    }
   ],
   "source": [
    "dfArticlesAffiliations"
   ]
  },
  {
   "cell_type": "markdown",
   "metadata": {},
   "source": [
    "<h4 style=\"text-align:justify;\">Paso 3: Guardar dataframe de las relaciones entre artículo y afiliación en un pickle</h4>"
   ]
  },
  {
   "cell_type": "code",
   "execution_count": 80,
   "metadata": {},
   "outputs": [],
   "source": [
    "dfArticlesAffiliations.to_pickle('data/completo/'+directorio+'/recast_article_affiliation.pkl')"
   ]
  },
  {
   "cell_type": "code",
   "execution_count": 81,
   "metadata": {},
   "outputs": [],
   "source": [
    "dfArticlesAffiliations = pd.read_pickle('data/completo/'+directorio+'/recast_article_affiliation.pkl')"
   ]
  },
  {
   "cell_type": "markdown",
   "metadata": {},
   "source": [
    "<hr>"
   ]
  },
  {
   "cell_type": "markdown",
   "metadata": {},
   "source": [
    "<hr>"
   ]
  },
  {
   "cell_type": "markdown",
   "metadata": {},
   "source": [
    "<h3><strong>Parte 5: Preparación de las relaciones entre artículo y autor</strong></h3>"
   ]
  },
  {
   "cell_type": "markdown",
   "metadata": {},
   "source": [
    "<h4 style=\"text-align:justify;\">Paso 1: Obtener los datos de las relaciones de artículo y autor</h4>"
   ]
  },
  {
   "cell_type": "code",
   "execution_count": 82,
   "metadata": {},
   "outputs": [],
   "source": [
    "affiliationsIds = dfAffiliations.index.tolist()\n",
    "dataArticlesAuthors = []\n",
    "for index, row in dfArticles.iterrows():\n",
    "    for author in row['authors']:\n",
    "        if any(item in affiliationsIds for item in author['afid']):\n",
    "            dataArticlesAuthors.append({\n",
    "                'article_id': index,\n",
    "                'author_id': author['authid']\n",
    "            })"
   ]
  },
  {
   "cell_type": "code",
   "execution_count": 83,
   "metadata": {},
   "outputs": [
    {
     "name": "stdout",
     "output_type": "stream",
     "text": [
      "Número de registros de article_author 102592\n"
     ]
    }
   ],
   "source": [
    "print('Número de registros de article_author', len(dataArticlesAuthors))"
   ]
  },
  {
   "cell_type": "markdown",
   "metadata": {},
   "source": [
    "<h4 style=\"text-align:justify;\">Paso 2: Cargar los datos de las relaciones entre artículo y autor en un dataframe</h4>"
   ]
  },
  {
   "cell_type": "code",
   "execution_count": 85,
   "metadata": {},
   "outputs": [
    {
     "data": {
      "text/html": [
       "<div>\n",
       "<style scoped>\n",
       "    .dataframe tbody tr th:only-of-type {\n",
       "        vertical-align: middle;\n",
       "    }\n",
       "\n",
       "    .dataframe tbody tr th {\n",
       "        vertical-align: top;\n",
       "    }\n",
       "\n",
       "    .dataframe thead th {\n",
       "        text-align: right;\n",
       "    }\n",
       "</style>\n",
       "<table border=\"1\" class=\"dataframe\">\n",
       "  <thead>\n",
       "    <tr style=\"text-align: right;\">\n",
       "      <th></th>\n",
       "      <th>article_id</th>\n",
       "      <th>author_id</th>\n",
       "    </tr>\n",
       "  </thead>\n",
       "  <tbody>\n",
       "    <tr>\n",
       "      <th>0</th>\n",
       "      <td>85133492759</td>\n",
       "      <td>57781304700</td>\n",
       "    </tr>\n",
       "    <tr>\n",
       "      <th>1</th>\n",
       "      <td>85133293730</td>\n",
       "      <td>57777188600</td>\n",
       "    </tr>\n",
       "    <tr>\n",
       "      <th>2</th>\n",
       "      <td>85133293730</td>\n",
       "      <td>57209969066</td>\n",
       "    </tr>\n",
       "    <tr>\n",
       "      <th>3</th>\n",
       "      <td>85133293730</td>\n",
       "      <td>57581708700</td>\n",
       "    </tr>\n",
       "    <tr>\n",
       "      <th>4</th>\n",
       "      <td>85133293730</td>\n",
       "      <td>57219597377</td>\n",
       "    </tr>\n",
       "  </tbody>\n",
       "</table>\n",
       "</div>"
      ],
      "text/plain": [
       "    article_id    author_id\n",
       "0  85133492759  57781304700\n",
       "1  85133293730  57777188600\n",
       "2  85133293730  57209969066\n",
       "3  85133293730  57581708700\n",
       "4  85133293730  57219597377"
      ]
     },
     "execution_count": 85,
     "metadata": {},
     "output_type": "execute_result"
    }
   ],
   "source": [
    "dfArticlesAuthors = pd.DataFrame(dataArticlesAuthors)\n",
    "dfArticlesAuthors.head(5)"
   ]
  },
  {
   "cell_type": "markdown",
   "metadata": {},
   "source": [
    "<h4 style=\"text-align:justify;\">Paso 3: Guardar dataframe de las relaciones entre artículo y autor en un pickle</h4>"
   ]
  },
  {
   "cell_type": "code",
   "execution_count": 86,
   "metadata": {},
   "outputs": [],
   "source": [
    "dfArticlesAuthors.to_pickle('data/completo/'+directorio+'/recast_article_author.pkl')"
   ]
  },
  {
   "cell_type": "code",
   "execution_count": 87,
   "metadata": {},
   "outputs": [],
   "source": [
    "dfArticlesAuthors = pd.read_pickle('data/completo/'+directorio+'/recast_article_author.pkl')"
   ]
  },
  {
   "cell_type": "markdown",
   "metadata": {},
   "source": [
    "<hr>"
   ]
  },
  {
   "cell_type": "markdown",
   "metadata": {},
   "source": [
    "<hr>"
   ]
  },
  {
   "cell_type": "markdown",
   "metadata": {},
   "source": [
    "<h3><strong>Parte 6: Extraer las relaciones entre autor y afiliacion</strong></h3>"
   ]
  },
  {
   "cell_type": "markdown",
   "metadata": {},
   "source": [
    "<h4 style=\"text-align:justify;\">Paso 1: Obtener los datos de las relaciones entre autor y afiliación</h4>"
   ]
  },
  {
   "cell_type": "code",
   "execution_count": 98,
   "metadata": {},
   "outputs": [],
   "source": [
    "dataAuthorsAffiliations = []\n",
    "for index, row in dfArticles.iterrows():\n",
    "    for author in row['authors']:\n",
    "        for afid in author['afid']:\n",
    "            if afid in affiliationsIds:\n",
    "                dataAuthorsAffiliations.append({\n",
    "                    'author_id': author['authid'],\n",
    "                    'affiliation_id': afid\n",
    "                })"
   ]
  },
  {
   "cell_type": "code",
   "execution_count": 99,
   "metadata": {},
   "outputs": [
    {
     "name": "stdout",
     "output_type": "stream",
     "text": [
      "Número de registros de autor_affiliation (incluye repetidos):  110457\n"
     ]
    }
   ],
   "source": [
    "print('Número de registros de autor_affiliation (incluye repetidos): ', len(dataAuthorsAffiliations))"
   ]
  },
  {
   "cell_type": "markdown",
   "metadata": {},
   "source": [
    "<h4 style=\"text-align:justify;\">Paso 2: Eliminar los datos repetidos de las relaciones entre autor y afiliación</h4>"
   ]
  },
  {
   "cell_type": "code",
   "execution_count": 100,
   "metadata": {},
   "outputs": [],
   "source": [
    "dataAuthorsAffiliations = [eval(t) for t in set([str(d) for d in dataAuthorsAffiliations])]  "
   ]
  },
  {
   "cell_type": "code",
   "execution_count": 101,
   "metadata": {},
   "outputs": [
    {
     "name": "stdout",
     "output_type": "stream",
     "text": [
      "Número de registros de autor_affiliation:  48362\n"
     ]
    }
   ],
   "source": [
    "print('Número de registros de autor_affiliation: ', len(dataAuthorsAffiliations))"
   ]
  },
  {
   "cell_type": "markdown",
   "metadata": {},
   "source": [
    "<h4 style=\"text-align:justify;\">Paso 3: Cargar los datos de las relaciones entre autor y afiliación en un dataframe</h4>"
   ]
  },
  {
   "cell_type": "code",
   "execution_count": 102,
   "metadata": {},
   "outputs": [],
   "source": [
    "dfAuthorsAffiliations = pd.DataFrame(dataAuthorsAffiliations)"
   ]
  },
  {
   "cell_type": "code",
   "execution_count": 103,
   "metadata": {},
   "outputs": [
    {
     "data": {
      "text/html": [
       "<div>\n",
       "<style scoped>\n",
       "    .dataframe tbody tr th:only-of-type {\n",
       "        vertical-align: middle;\n",
       "    }\n",
       "\n",
       "    .dataframe tbody tr th {\n",
       "        vertical-align: top;\n",
       "    }\n",
       "\n",
       "    .dataframe thead th {\n",
       "        text-align: right;\n",
       "    }\n",
       "</style>\n",
       "<table border=\"1\" class=\"dataframe\">\n",
       "  <thead>\n",
       "    <tr style=\"text-align: right;\">\n",
       "      <th></th>\n",
       "      <th>author_id</th>\n",
       "      <th>affiliation_id</th>\n",
       "    </tr>\n",
       "  </thead>\n",
       "  <tbody>\n",
       "    <tr>\n",
       "      <th>0</th>\n",
       "      <td>57556791300</td>\n",
       "      <td>60072035</td>\n",
       "    </tr>\n",
       "    <tr>\n",
       "      <th>1</th>\n",
       "      <td>57221752656</td>\n",
       "      <td>60105694</td>\n",
       "    </tr>\n",
       "    <tr>\n",
       "      <th>2</th>\n",
       "      <td>6508191924</td>\n",
       "      <td>101330130</td>\n",
       "    </tr>\n",
       "    <tr>\n",
       "      <th>3</th>\n",
       "      <td>56481581500</td>\n",
       "      <td>114889267</td>\n",
       "    </tr>\n",
       "    <tr>\n",
       "      <th>4</th>\n",
       "      <td>57218280892</td>\n",
       "      <td>60105694</td>\n",
       "    </tr>\n",
       "    <tr>\n",
       "      <th>...</th>\n",
       "      <td>...</td>\n",
       "      <td>...</td>\n",
       "    </tr>\n",
       "    <tr>\n",
       "      <th>48357</th>\n",
       "      <td>57201792387</td>\n",
       "      <td>60072036</td>\n",
       "    </tr>\n",
       "    <tr>\n",
       "      <th>48358</th>\n",
       "      <td>57204909849</td>\n",
       "      <td>60104598</td>\n",
       "    </tr>\n",
       "    <tr>\n",
       "      <th>48359</th>\n",
       "      <td>57205361475</td>\n",
       "      <td>60105693</td>\n",
       "    </tr>\n",
       "    <tr>\n",
       "      <th>48360</th>\n",
       "      <td>57226459002</td>\n",
       "      <td>60108339</td>\n",
       "    </tr>\n",
       "    <tr>\n",
       "      <th>48361</th>\n",
       "      <td>57195685364</td>\n",
       "      <td>60104598</td>\n",
       "    </tr>\n",
       "  </tbody>\n",
       "</table>\n",
       "<p>48362 rows × 2 columns</p>\n",
       "</div>"
      ],
      "text/plain": [
       "         author_id affiliation_id\n",
       "0      57556791300       60072035\n",
       "1      57221752656       60105694\n",
       "2       6508191924      101330130\n",
       "3      56481581500      114889267\n",
       "4      57218280892       60105694\n",
       "...            ...            ...\n",
       "48357  57201792387       60072036\n",
       "48358  57204909849       60104598\n",
       "48359  57205361475       60105693\n",
       "48360  57226459002       60108339\n",
       "48361  57195685364       60104598\n",
       "\n",
       "[48362 rows x 2 columns]"
      ]
     },
     "execution_count": 103,
     "metadata": {},
     "output_type": "execute_result"
    }
   ],
   "source": [
    "dfAuthorsAffiliations"
   ]
  },
  {
   "cell_type": "markdown",
   "metadata": {},
   "source": [
    "<h4 style=\"text-align:justify;\">Paso 4: Guardar dataframe de las relaciones entre autor y afiliación en un pickle</h4>"
   ]
  },
  {
   "cell_type": "code",
   "execution_count": 104,
   "metadata": {},
   "outputs": [],
   "source": [
    "dfAuthorsAffiliations.to_pickle('data/completo/'+directorio+'/recast_author_affiliation.pkl')"
   ]
  },
  {
   "cell_type": "code",
   "execution_count": 105,
   "metadata": {},
   "outputs": [],
   "source": [
    "dfAuthorsAffiliations = pd.read_pickle('data/completo/'+directorio+'/recast_author_affiliation.pkl')"
   ]
  },
  {
   "cell_type": "markdown",
   "metadata": {},
   "source": [
    "<hr>"
   ]
  },
  {
   "cell_type": "markdown",
   "metadata": {},
   "source": [
    "<hr>"
   ]
  },
  {
   "cell_type": "markdown",
   "metadata": {},
   "source": [
    "<h3><strong>Parte 7: Preparación de las author_keywords de los artículos</strong></h3>"
   ]
  },
  {
   "cell_type": "markdown",
   "metadata": {},
   "source": [
    "<h4 style=\"text-align:justify;\">Paso 1: Obtener los datos de las author_keywords</h4>"
   ]
  },
  {
   "cell_type": "code",
   "execution_count": 59,
   "metadata": {},
   "outputs": [],
   "source": [
    "dataAuthorKeywords = []\n",
    "for index, row in dfArticles.iterrows():\n",
    "    if type(row['author_keywords']) != float:\n",
    "        authorKeywords = row['author_keywords'].split(' | ')\n",
    "        for item in authorKeywords:  \n",
    "            dataAuthorKeywords.append(item)"
   ]
  },
  {
   "cell_type": "code",
   "execution_count": 60,
   "metadata": {},
   "outputs": [
    {
     "data": {
      "text/plain": [
       "162829"
      ]
     },
     "execution_count": 60,
     "metadata": {},
     "output_type": "execute_result"
    }
   ],
   "source": [
    "len(dataAuthorKeywords)"
   ]
  },
  {
   "cell_type": "markdown",
   "metadata": {},
   "source": [
    "<h4 style=\"text-align:justify;\">Paso 2: Eliminar los datos repetidos de las author_keywords</h4>"
   ]
  },
  {
   "cell_type": "code",
   "execution_count": 61,
   "metadata": {},
   "outputs": [],
   "source": [
    "dataAuthorKeywords = list(dict.fromkeys(dataAuthorKeywords))"
   ]
  },
  {
   "cell_type": "code",
   "execution_count": 62,
   "metadata": {},
   "outputs": [
    {
     "data": {
      "text/plain": [
       "86314"
      ]
     },
     "execution_count": 62,
     "metadata": {},
     "output_type": "execute_result"
    }
   ],
   "source": [
    "len(dataAuthorKeywords)"
   ]
  },
  {
   "cell_type": "markdown",
   "metadata": {},
   "source": [
    "<h4 style=\"text-align:justify;\">Paso 3: Cargar los datos de las author_keywords</h4>"
   ]
  },
  {
   "cell_type": "code",
   "execution_count": 63,
   "metadata": {},
   "outputs": [
    {
     "data": {
      "text/plain": [
       "86205"
      ]
     },
     "execution_count": 63,
     "metadata": {},
     "output_type": "execute_result"
    }
   ],
   "source": [
    "dataAuthorKeywords.index(\"Papillary carcinoma\")"
   ]
  },
  {
   "cell_type": "code",
   "execution_count": 64,
   "metadata": {},
   "outputs": [],
   "source": [
    "dfAuthorKeywords = pd.DataFrame(dataAuthorKeywords, columns=['name'])"
   ]
  },
  {
   "cell_type": "code",
   "execution_count": 65,
   "metadata": {},
   "outputs": [
    {
     "data": {
      "text/html": [
       "<div>\n",
       "<style scoped>\n",
       "    .dataframe tbody tr th:only-of-type {\n",
       "        vertical-align: middle;\n",
       "    }\n",
       "\n",
       "    .dataframe tbody tr th {\n",
       "        vertical-align: top;\n",
       "    }\n",
       "\n",
       "    .dataframe thead th {\n",
       "        text-align: right;\n",
       "    }\n",
       "</style>\n",
       "<table border=\"1\" class=\"dataframe\">\n",
       "  <thead>\n",
       "    <tr style=\"text-align: right;\">\n",
       "      <th></th>\n",
       "      <th>name</th>\n",
       "    </tr>\n",
       "    <tr>\n",
       "      <th>identifier</th>\n",
       "      <th></th>\n",
       "    </tr>\n",
       "  </thead>\n",
       "  <tbody>\n",
       "    <tr>\n",
       "      <th>0</th>\n",
       "      <td>Audio signals design process</td>\n",
       "    </tr>\n",
       "    <tr>\n",
       "      <th>1</th>\n",
       "      <td>Experimental design processes</td>\n",
       "    </tr>\n",
       "    <tr>\n",
       "      <th>2</th>\n",
       "      <td>Fictional spaces</td>\n",
       "    </tr>\n",
       "    <tr>\n",
       "      <th>3</th>\n",
       "      <td>Sound and changing forms</td>\n",
       "    </tr>\n",
       "    <tr>\n",
       "      <th>4</th>\n",
       "      <td>Facility layout problem</td>\n",
       "    </tr>\n",
       "    <tr>\n",
       "      <th>...</th>\n",
       "      <td>...</td>\n",
       "    </tr>\n",
       "    <tr>\n",
       "      <th>86309</th>\n",
       "      <td>recurrent selection</td>\n",
       "    </tr>\n",
       "    <tr>\n",
       "      <th>86310</th>\n",
       "      <td>3,3-dimethoxy-22,26-epiminocholestane</td>\n",
       "    </tr>\n",
       "    <tr>\n",
       "      <th>86311</th>\n",
       "      <td>Solanum pseudoquina</td>\n",
       "    </tr>\n",
       "    <tr>\n",
       "      <th>86312</th>\n",
       "      <td>stereoidal alkaloids.</td>\n",
       "    </tr>\n",
       "    <tr>\n",
       "      <th>86313</th>\n",
       "      <td>Thyroglobulin</td>\n",
       "    </tr>\n",
       "  </tbody>\n",
       "</table>\n",
       "<p>86314 rows × 1 columns</p>\n",
       "</div>"
      ],
      "text/plain": [
       "                                             name\n",
       "identifier                                       \n",
       "0                    Audio signals design process\n",
       "1                   Experimental design processes\n",
       "2                                Fictional spaces\n",
       "3                        Sound and changing forms\n",
       "4                         Facility layout problem\n",
       "...                                           ...\n",
       "86309                         recurrent selection\n",
       "86310       3,3-dimethoxy-22,26-epiminocholestane\n",
       "86311                         Solanum pseudoquina\n",
       "86312                       stereoidal alkaloids.\n",
       "86313                               Thyroglobulin\n",
       "\n",
       "[86314 rows x 1 columns]"
      ]
     },
     "execution_count": 65,
     "metadata": {},
     "output_type": "execute_result"
    }
   ],
   "source": [
    "dfAuthorKeywords.index.name = 'identifier'\n",
    "dfAuthorKeywords"
   ]
  },
  {
   "cell_type": "markdown",
   "metadata": {},
   "source": [
    "<h4 style=\"text-align:justify;\">Paso 4: Guardar dataframe de las author_keywords en un pickle</h4>"
   ]
  },
  {
   "cell_type": "code",
   "execution_count": 66,
   "metadata": {},
   "outputs": [],
   "source": [
    "dfAuthorKeywords.to_pickle('data/completo/'+directorio+'/recast_author_keyword.pkl')"
   ]
  },
  {
   "cell_type": "code",
   "execution_count": 67,
   "metadata": {},
   "outputs": [],
   "source": [
    "dfAuthorKeywords = pd.read_pickle('data/completo/'+directorio+'/recast_author_keyword.pkl')"
   ]
  },
  {
   "cell_type": "markdown",
   "metadata": {},
   "source": [
    "<hr>"
   ]
  },
  {
   "cell_type": "markdown",
   "metadata": {},
   "source": [
    "<hr>"
   ]
  },
  {
   "cell_type": "markdown",
   "metadata": {},
   "source": [
    "<h3><strong>Parte 7: Preparación de las relaciones entre artículos y author_keywords</strong></h3>"
   ]
  },
  {
   "cell_type": "markdown",
   "metadata": {},
   "source": [
    "<h4 style=\"text-align:justify;\">Paso 1: Obtener los datos de las relaciones entre artículos y author_keywords</h4>"
   ]
  },
  {
   "cell_type": "code",
   "execution_count": 106,
   "metadata": {},
   "outputs": [],
   "source": [
    "dataArticlesAuthorKeywords = []\n",
    "for index, row in dfArticles.iterrows():\n",
    "    if type(row['author_keywords']) != float:\n",
    "        authorKeywords = row['author_keywords'].split(' | ')\n",
    "        for item in authorKeywords:  \n",
    "            dataArticlesAuthorKeywords.append({\n",
    "                'article_id': index,\n",
    "                'author_keyword_id': dataAuthorKeywords.index(item)\n",
    "            })"
   ]
  },
  {
   "cell_type": "code",
   "execution_count": 107,
   "metadata": {},
   "outputs": [
    {
     "name": "stdout",
     "output_type": "stream",
     "text": [
      "Número de registros de article_author_keyword:  162829\n"
     ]
    }
   ],
   "source": [
    "print('Número de registros de article_author_keyword: ', len(dataArticlesAuthorKeywords))"
   ]
  },
  {
   "cell_type": "markdown",
   "metadata": {},
   "source": [
    "<h4 style=\"text-align:justify;\">Paso 2: Cargar los datos de las relaciones entre article y author_keywords en un dataframe</h4>"
   ]
  },
  {
   "cell_type": "code",
   "execution_count": 108,
   "metadata": {},
   "outputs": [],
   "source": [
    "dfArticlesAuthorKeywords = pd.DataFrame(dataArticlesAuthorKeywords)"
   ]
  },
  {
   "cell_type": "code",
   "execution_count": 109,
   "metadata": {},
   "outputs": [
    {
     "data": {
      "text/html": [
       "<div>\n",
       "<style scoped>\n",
       "    .dataframe tbody tr th:only-of-type {\n",
       "        vertical-align: middle;\n",
       "    }\n",
       "\n",
       "    .dataframe tbody tr th {\n",
       "        vertical-align: top;\n",
       "    }\n",
       "\n",
       "    .dataframe thead th {\n",
       "        text-align: right;\n",
       "    }\n",
       "</style>\n",
       "<table border=\"1\" class=\"dataframe\">\n",
       "  <thead>\n",
       "    <tr style=\"text-align: right;\">\n",
       "      <th></th>\n",
       "      <th>article_id</th>\n",
       "      <th>author_keyword_id</th>\n",
       "    </tr>\n",
       "  </thead>\n",
       "  <tbody>\n",
       "    <tr>\n",
       "      <th>0</th>\n",
       "      <td>85133492759</td>\n",
       "      <td>0</td>\n",
       "    </tr>\n",
       "    <tr>\n",
       "      <th>1</th>\n",
       "      <td>85133492759</td>\n",
       "      <td>1</td>\n",
       "    </tr>\n",
       "    <tr>\n",
       "      <th>2</th>\n",
       "      <td>85133492759</td>\n",
       "      <td>2</td>\n",
       "    </tr>\n",
       "    <tr>\n",
       "      <th>3</th>\n",
       "      <td>85133492759</td>\n",
       "      <td>3</td>\n",
       "    </tr>\n",
       "    <tr>\n",
       "      <th>4</th>\n",
       "      <td>85133293730</td>\n",
       "      <td>4</td>\n",
       "    </tr>\n",
       "    <tr>\n",
       "      <th>...</th>\n",
       "      <td>...</td>\n",
       "      <td>...</td>\n",
       "    </tr>\n",
       "    <tr>\n",
       "      <th>162824</th>\n",
       "      <td>49349128136</td>\n",
       "      <td>34003</td>\n",
       "    </tr>\n",
       "    <tr>\n",
       "      <th>162825</th>\n",
       "      <td>49349128136</td>\n",
       "      <td>86311</td>\n",
       "    </tr>\n",
       "    <tr>\n",
       "      <th>162826</th>\n",
       "      <td>49349128136</td>\n",
       "      <td>86312</td>\n",
       "    </tr>\n",
       "    <tr>\n",
       "      <th>162827</th>\n",
       "      <td>0014703748</td>\n",
       "      <td>86294</td>\n",
       "    </tr>\n",
       "    <tr>\n",
       "      <th>162828</th>\n",
       "      <td>0014703748</td>\n",
       "      <td>86313</td>\n",
       "    </tr>\n",
       "  </tbody>\n",
       "</table>\n",
       "<p>162829 rows × 2 columns</p>\n",
       "</div>"
      ],
      "text/plain": [
       "         article_id  author_keyword_id\n",
       "0       85133492759                  0\n",
       "1       85133492759                  1\n",
       "2       85133492759                  2\n",
       "3       85133492759                  3\n",
       "4       85133293730                  4\n",
       "...             ...                ...\n",
       "162824  49349128136              34003\n",
       "162825  49349128136              86311\n",
       "162826  49349128136              86312\n",
       "162827   0014703748              86294\n",
       "162828   0014703748              86313\n",
       "\n",
       "[162829 rows x 2 columns]"
      ]
     },
     "execution_count": 109,
     "metadata": {},
     "output_type": "execute_result"
    }
   ],
   "source": [
    "dfArticlesAuthorKeywords"
   ]
  },
  {
   "cell_type": "markdown",
   "metadata": {},
   "source": [
    "<h4 style=\"text-align:justify;\">Paso 4: Guardar dataframe de las relaciones entre article y author_keywords en un pickle</h4>"
   ]
  },
  {
   "cell_type": "code",
   "execution_count": 110,
   "metadata": {},
   "outputs": [],
   "source": [
    "dfArticlesAuthorKeywords.to_pickle('data/completo/'+directorio+'/recast_article_author_keyword.pkl')"
   ]
  },
  {
   "cell_type": "code",
   "execution_count": 111,
   "metadata": {},
   "outputs": [],
   "source": [
    "dfArticlesAuthorKeywords = pd.read_pickle('data/completo/'+directorio+'/recast_article_author_keyword.pkl')"
   ]
  },
  {
   "cell_type": "code",
   "execution_count": null,
   "metadata": {},
   "outputs": [],
   "source": []
  }
 ],
 "metadata": {
  "kernelspec": {
   "display_name": "Python 3 (ipykernel)",
   "language": "python",
   "name": "python3"
  },
  "language_info": {
   "codemirror_mode": {
    "name": "ipython",
    "version": 3
   },
   "file_extension": ".py",
   "mimetype": "text/x-python",
   "name": "python",
   "nbconvert_exporter": "python",
   "pygments_lexer": "ipython3",
   "version": "3.9.7"
  }
 },
 "nbformat": 4,
 "nbformat_minor": 4
}
